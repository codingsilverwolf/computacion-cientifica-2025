{
 "cells": [
  {
   "cell_type": "raw",
   "metadata": {
    "colab": {
     "base_uri": "https://localhost:8080/"
    },
    "id": "kRz0IDFAQzIQ",
    "outputId": "53bce6a0-895d-4c14-a156-f2f6ee2f8372"
   },
   "source": [
    "# 1. Montar drive\n",
    "from google.colab import drive\n",
    "\n",
    "drive.mount('/content/drive')\n",
    "\n",
    "# 2. Añadir la carpeta al sys.path UNA SOLA VEZ\n",
    "import sys\n",
    "sys.path.append('/content/drive/MyDrive/CC_2025_codigos ')\n",
    "\n",
    "# 3. Importar el módulo (¡SIN .py en el nombre!)\n",
    "from clase_codeointeligente_cc_2025 import *\n",
    "\n",
    "\n",
    "# 4. Probamos algún método\n",
    "\n",
    "from math import cos\n",
    "\n",
    "secante(cos, [0, 1], 5)"
   ]
  },
  {
   "cell_type": "code",
   "execution_count": 5,
   "metadata": {},
   "outputs": [],
   "source": [
    "# (local) from clase_codeointeligente_cc_2025 import *"
   ]
  },
  {
   "cell_type": "markdown",
   "metadata": {
    "id": "p-U7G2HBuWuM"
   },
   "source": [
    "## Ejemplos de funciones lambda (vamos a usarlas para _hackear_ los métodos y que funciones cuando queremos aplicarlos a una f(k, x) )\n",
    "\n",
    "### Funciones Lambda en Python: Resumen Rápido\n",
    "\n",
    "+ ¿Qué son?\n",
    "  - Son funciones ANÓNIMAS (sin nombre).\n",
    "  - Se definen en una única línea.\n",
    "  - Contienen una única EXPRESIÓN, cuyo resultado es el valor de retorno implícito.\n",
    "\n",
    "+ Sintaxis:\n",
    "  lambda argumentos: expresión\n",
    "\n",
    "+ Características Clave:\n",
    "  - Concisas, ideales para tareas simples.\n",
    "  - No usan 'def' ni 'return'.\n",
    "  - No pueden contener múltiples sentencias (bucles, bloques if/else, etc.).\n",
    "\n",
    "+ Uso Principal:\n",
    "  Se usan comúnmente como argumentos de otras funciones (funciones de orden superior)\n",
    "  que esperan una función como parámetro.\n",
    "\n",
    "\n",
    "Resumen: Las lambdas son tu herramienta para funciones rápidas, de una línea y sin nombre, ideales para pasar como argumentos a otras funciones."
   ]
  },
  {
   "cell_type": "code",
   "execution_count": 6,
   "metadata": {
    "colab": {
     "base_uri": "https://localhost:8080/"
    },
    "id": "awRi_LjpltxI",
    "outputId": "cba8739c-df2c-4101-92dd-440c799ef016"
   },
   "outputs": [
    {
     "name": "stdout",
     "output_type": "stream",
     "text": [
      "4\n"
     ]
    },
    {
     "data": {
      "text/plain": [
       "10"
      ]
     },
     "execution_count": 6,
     "metadata": {},
     "output_type": "execute_result"
    }
   ],
   "source": [
    "(lambda x: 2*x)(2)\n",
    "\n",
    "# Esto devuelve 4, lo printeo debajo\n",
    "print((lambda x: 2*x)(2))\n",
    "\n",
    "#también podríamos guardar a una función lambda en una variable\n",
    "\n",
    "duplicador = lambda x: 2*x\n",
    "\n",
    "duplicador(5)"
   ]
  },
  {
   "cell_type": "markdown",
   "metadata": {
    "id": "6LNmpy6puE4C"
   },
   "source": [
    "# Hackeando el .py con lambda para evitar reescribir una versión con `k` de cada método."
   ]
  },
  {
   "cell_type": "code",
   "execution_count": 7,
   "metadata": {
    "colab": {
     "base_uri": "https://localhost:8080/"
    },
    "id": "oaoQyFJ4S7P4",
    "outputId": "491c0e1c-0eb5-486e-f42c-0508462658e8"
   },
   "outputs": [
    {
     "data": {
      "text/plain": [
       "-6.014907825474839"
      ]
     },
     "execution_count": 7,
     "metadata": {},
     "output_type": "execute_result"
    }
   ],
   "source": [
    "# Esta es nuestra nueva función que ahora depende también de k\n",
    "\n",
    "from math import exp, sqrt\n",
    "\n",
    "def f(k, x):\n",
    "    return  1 / (k - x) - 1 -x*exp(x)\n",
    "\n",
    "# si queremos aplicarle secante en el intervalo compañero, con k = -5, hacemos\n",
    "\n",
    "def intervalo_compañero(k):\n",
    "    return [k - 0.5, k - 0.7]\n",
    "\n",
    "\n",
    "secante(lambda x: f(-5, x), intervalo_compañero(-5), 10)\n",
    "\n",
    "# MAGIA!"
   ]
  },
  {
   "cell_type": "code",
   "execution_count": 8,
   "metadata": {
    "colab": {
     "base_uri": "https://localhost:8080/",
     "height": 559
    },
    "id": "nTNLyNnkWy7L",
    "outputId": "976b15b1-a945-48eb-f206-acaa0b883682"
   },
   "outputs": [
    {
     "data": {
      "image/png": "[encoded data removed]",
      "text/plain": [
       "<Figure size 1000x600 with 1 Axes>"
      ]
     },
     "metadata": {},
     "output_type": "display_data"
    }
   ],
   "source": [
    "from numpy import linspace\n",
    "import matplotlib.pyplot as plt\n",
    "\n",
    "\n",
    "k_rango = linspace(-5, 1, 100)\n",
    "\n",
    "k_raices = [secante_tol(lambda x: f(k, x), intervalo_compañero(k), 1e-15)[1] for k in k_rango]\n",
    "\n",
    "\n",
    "fig, ax = plt.subplots(figsize = ( 10, 6))\n",
    "\n",
    "ax.plot(k_rango, k_raices, 'bo', markersize = 1)\n",
    "\n",
    "plt.show()\n",
    "\n",
    "#print(k_raices)"
   ]
  },
  {
   "cell_type": "markdown",
   "metadata": {
    "id": "nEYl6bUyzHDR"
   },
   "source": [
    "## Para el futuro: ¿cómo hacemos para transformar un .ipynb en un script de python .py?\n",
    "\n",
    "### Opción 1: si estamos con una carpeta ya montada\n",
    "\n",
    "1. Montamos la carpeta de drive donde está nuestro .ipynb\n",
    "2. !jupyter nbconvert --to script \"/content/drive/MyDrive/ruta/a/tu_cuaderno.ipynb\"\n",
    "\n",
    "### Opción 2: Vamos a Archivo -> Descargar -> Descargar .py"
   ]
  },
  {
   "cell_type": "code",
   "execution_count": 9,
   "metadata": {
    "id": "44biAKODayIZ"
   },
   "outputs": [],
   "source": [
    "# (local) !jupyter nbconvert --to script clase_codeointeligente_cc_2025.ipynb"
   ]
  },
  {
   "cell_type": "code",
   "execution_count": null,
   "metadata": {},
   "outputs": [],
   "source": []
  }
 ],
 "metadata": {
  "colab": {
   "provenance": []
  },
  "kernelspec": {
   "display_name": "Python 3 (ipykernel)",
   "language": "python",
   "name": "python3"
  },
  "language_info": {
   "codemirror_mode": {
    "name": "ipython",
    "version": 3
   },
   "file_extension": ".py",
   "mimetype": "text/x-python",
   "name": "python",
   "nbconvert_exporter": "python",
   "pygments_lexer": "ipython3",
   "version": "3.13.2"
  }
 },
 "nbformat": 4,
 "nbformat_minor": 4
}
