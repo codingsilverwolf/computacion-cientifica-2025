{
  "nbformat": 4,
  "nbformat_minor": 0,
  "metadata": {
    "colab": {
      "provenance": []
    },
    "kernelspec": {
      "name": "python3",
      "display_name": "Python 3"
    },
    "language_info": {
      "name": "python"
    }
  },
  "cells": [
    {
      "cell_type": "code",
      "execution_count": 2,
      "metadata": {
        "colab": {
          "base_uri": "https://localhost:8080/"
        },
        "id": "kRz0IDFAQzIQ",
        "outputId": "53bce6a0-895d-4c14-a156-f2f6ee2f8372"
      },
      "outputs": [
        {
          "output_type": "stream",
          "name": "stdout",
          "text": [
            "Drive already mounted at /content/drive; to attempt to forcibly remount, call drive.mount(\"/content/drive\", force_remount=True).\n",
            "pi:  1.5707963267948966\n",
            "     1.5738642883706677\n",
            "-0.6774110021601171\n"
          ]
        },
        {
          "output_type": "execute_result",
          "data": {
            "text/plain": [
              "1.5707963267948966"
            ]
          },
          "metadata": {},
          "execution_count": 2
        }
      ],
      "source": [
        "# 1. Montar drive\n",
        "from google.colab import drive\n",
        "\n",
        "drive.mount('/content/drive')\n",
        "\n",
        "# 2. Añadir la carpeta al sys.path UNA SOLA VEZ\n",
        "import sys\n",
        "sys.path.append('/content/drive/MyDrive/CC_2025_codigos ')\n",
        "\n",
        "# 3. Importar el módulo (¡SIN .py en el nombre!)\n",
        "from clase_codeointeligente_cc_2025 import *\n",
        "\n",
        "\n",
        "# 4. Probamos algún método\n",
        "\n",
        "from math import cos\n",
        "\n",
        "secante(cos, [0, 1], 5)"
      ]
    },
    {
      "cell_type": "markdown",
      "source": [
        "## Ejemplos de funciones lambda (vamos a usarlas para _hackear_ los métodos y que funciones cuando queremos aplicarlos a una f(k, x) )\n",
        "\n",
        "### Funciones Lambda en Python: Resumen Rápido\n",
        "\n",
        "+ ¿Qué son?\n",
        "  - Son funciones ANÓNIMAS (sin nombre).\n",
        "  - Se definen en una única línea.\n",
        "  - Contienen una única EXPRESIÓN, cuyo resultado es el valor de retorno implícito.\n",
        "\n",
        "+ Sintaxis:\n",
        "  lambda argumentos: expresión\n",
        "\n",
        "+ Características Clave:\n",
        "  - Concisas, ideales para tareas simples.\n",
        "  - No usan 'def' ni 'return'.\n",
        "  - No pueden contener múltiples sentencias (bucles, bloques if/else, etc.).\n",
        "\n",
        "+ Uso Principal:\n",
        "  Se usan comúnmente como argumentos de otras funciones (funciones de orden superior)\n",
        "  que esperan una función como parámetro.\n",
        "\n",
        "\n",
        "Resumen: Las lambdas son tu herramienta para funciones rápidas, de una línea y sin nombre, ideales para pasar como argumentos a otras funciones."
      ],
      "metadata": {
        "id": "p-U7G2HBuWuM"
      }
    },
    {
      "cell_type": "code",
      "source": [
        "(lambda x: 2*x)(2)\n",
        "\n",
        "# Esto devuelve 4, lo printeo debajo\n",
        "print((lambda x: 2*x)(2))\n",
        "\n",
        "#también podríamos guardar a una función lambda en una variable\n",
        "\n",
        "duplicador = lambda x: 2*x\n",
        "\n",
        "duplicador(5)"
      ],
      "metadata": {
        "colab": {
          "base_uri": "https://localhost:8080/"
        },
        "id": "awRi_LjpltxI",
        "outputId": "cba8739c-df2c-4101-92dd-440c799ef016"
      },
      "execution_count": 9,
      "outputs": [
        {
          "output_type": "stream",
          "name": "stdout",
          "text": [
            "4\n"
          ]
        },
        {
          "output_type": "execute_result",
          "data": {
            "text/plain": [
              "10"
            ]
          },
          "metadata": {},
          "execution_count": 9
        }
      ]
    },
    {
      "cell_type": "markdown",
      "source": [
        "# Hackeando el .py con lambda para evitar reescribir una versión con `k` de cada método."
      ],
      "metadata": {
        "id": "6LNmpy6puE4C"
      }
    },
    {
      "cell_type": "code",
      "source": [
        "# Esta es nuestra nueva función que ahora depende también de k\n",
        "\n",
        "from math import exp, sqrt\n",
        "\n",
        "def f(k, x):\n",
        "    return  1 / (k - x) - 1 -x*exp(x)\n",
        "\n",
        "# si queremos aplicarle secante en el intervalo compañero, con k = -5, hacemos\n",
        "\n",
        "def intervalo_compañero(k):\n",
        "    return [k - 0.5, k - 0.7]\n",
        "\n",
        "\n",
        "secante(lambda x: f(-5, x), intervalo_compañero(-5), 10)\n",
        "\n",
        "# MAGIA!"
      ],
      "metadata": {
        "id": "oaoQyFJ4S7P4",
        "colab": {
          "base_uri": "https://localhost:8080/"
        },
        "outputId": "491c0e1c-0eb5-486e-f42c-0508462658e8"
      },
      "execution_count": 5,
      "outputs": [
        {
          "output_type": "execute_result",
          "data": {
            "text/plain": [
              "-6.014907825474839"
            ]
          },
          "metadata": {},
          "execution_count": 5
        }
      ]
    },
    {
      "cell_type": "code",
      "source": [
        "from numpy import linspace\n",
        "import matplotlib.pyplot as plt\n",
        "\n",
        "\n",
        "k_rango = linspace(-5, 1, 100)\n",
        "\n",
        "k_raices = [secante_tol(lambda x: f(k, x), intervalo_compañero(k), 1e-15)[1] for k in k_rango]\n",
        "\n",
        "\n",
        "fig, ax = plt.subplots(figsize = ( 10, 6))\n",
        "\n",
        "ax.plot(k_rango, k_raices, 'bo', markersize = 1)\n",
        "\n",
        "plt.show()\n",
        "\n",
        "print(k_raices)"
      ],
      "metadata": {
        "id": "nTNLyNnkWy7L",
        "colab": {
          "base_uri": "https://localhost:8080/",
          "height": 559
        },
        "outputId": "976b15b1-a945-48eb-f206-acaa0b883682"
      },
      "execution_count": 8,
      "outputs": [
        {
          "output_type": "display_data",
          "data": {
            "text/plain": [
              "<Figure size 1000x600 with 1 Axes>"
            ],
            "image/png": "[encoded data removed]"
          },
          "metadata": {}
        },
        {
          "output_type": "stream",
          "name": "stdout",
          "text": [
            "[np.float64(-6.014907825474839), np.float64(-5.9550754685167995), np.float64(-5.895281689001849), np.float64(-5.835528296883491), np.float64(-5.775817178658908), np.float64(-5.71615029995896), np.float64(-5.656529708170705), np.float64(-5.596957535086938), np.float64(-5.537435999576479), np.float64(-5.4779674102680636), np.float64(-5.418554168239776), np.float64(-5.359198769704911), np.float64(-5.299903808684034), np.float64(-5.240671979651818), np.float64(-5.18150608014584), np.float64(-5.122409013323134), np.float64(-5.0633837904486745), np.float64(-5.004433533298274), np.float64(-4.945561476456519), np.float64(-4.8867709694883725), np.float64(-4.828065478960872), np.float64(-4.769448590289065), np.float64(-4.710924009377753), np.float64(-4.652495564027957), np.float64(-4.5941672050740925), np.float64(-4.5359430072147475), np.float64(-4.477827169496662), np.float64(-4.419824015407952), np.float64(-4.361937992532936), np.float64(-4.3041736717169075), np.float64(-4.246535745685055), np.float64(-4.189029027055352), np.float64(-4.1316584456805945), np.float64(-4.074429045250007), np.float64(-4.017345979075819), np.float64(-3.9604145049850503), np.float64(-3.9036399792314045), np.float64(-3.847027849336712), np.float64(-3.7905836457657553), np.float64(-3.7343129723326265), np.float64(-3.6782214952310004), np.float64(-3.6223149305748805), np.float64(-3.566599030330513), np.float64(-3.511079566514263), np.float64(-3.4557623135253146), np.float64(-3.40065302847604), np.float64(-3.345757429376781), np.float64(-3.2910811710254766), np.float64(-3.236629818445934), np.float64(-3.1824088177114325), np.float64(-3.1284234639824717), np.float64(-3.074678866578528), np.float64(-3.0211799108931885), np.float64(-2.9679312169494487), np.float64(-2.9149370943764823), np.float64(-2.862201493569934), np.float64(-2.8097279527735144), np.float64(-2.7575195407888997), np.float64(-2.7055787949818213), np.float64(-2.6539076542024325), np.float64(-2.6025073861747168), np.float64(-2.551378508829304), np.float64(-2.500520704952149), np.float64(-2.4499327293926383), np.float64(-2.399612307911877), np.float64(-2.349556026546507), np.float64(-2.2997592101043356), np.float64(-2.2502157880811966), np.float64(-2.200918145875455), np.float64(-2.151856958653603), np.float64(-2.1030210045559357), np.float64(-2.054396953083444), np.float64(-2.0059691234193493), np.float64(-1.9577192060342417), np.float64(-1.9096259390967776), np.float64(-1.8616647288147607), np.float64(-1.8138071996562068), np.float64(-1.766020656149114), np.float64(-1.7182674322011289), np.float64(-1.6705040959817452), np.float64(-1.622680467421664), np.float64(-1.5747383898630862), np.float64(-1.526610175101733), np.float64(-1.478216608448126), np.float64(-1.4294643517471768), np.float64(-1.3802425079517442), np.float64(-1.330417994432718), np.float64(-1.2798291846654686), np.float64(-1.2282769658767247), np.float64(-1.175511821360483), np.float64(-1.121214574571317), np.float64(-1.0649665888872515), np.float64(-1.0062015004200062), np.float64(-0.9441224874015322), np.float64(-0.877549816886412), np.float64(-0.8046114852024098), np.float64(-0.7220242733313623), np.float64(-0.6230351294819788), np.float64(-0.48877938888358036), np.float64(3.4168089642650577e-06)]\n"
          ]
        }
      ]
    },
    {
      "cell_type": "markdown",
      "source": [
        "## Para el futuro: ¿cómo hacemos para transformar un .ipynb en un script de python .py?\n",
        "\n",
        "### Opción 1: si estamos con una carpeta ya montada\n",
        "\n",
        "1. Montamos la carpeta de drive donde está nuestro .ipynb\n",
        "2. !jupyter nbconvert --to script \"/content/drive/MyDrive/ruta/a/tu_cuaderno.ipynb\"\n",
        "\n",
        "### Opción 2: Vamos a Archivo -> Descargar -> Descargar .py"
      ],
      "metadata": {
        "id": "nEYl6bUyzHDR"
      }
    },
    {
      "cell_type": "code",
      "source": [],
      "metadata": {
        "id": "44biAKODayIZ"
      },
      "execution_count": null,
      "outputs": []
    }
  ]
}