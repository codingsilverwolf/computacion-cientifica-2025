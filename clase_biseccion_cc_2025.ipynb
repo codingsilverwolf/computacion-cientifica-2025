{
 "cells": [
  {
   "cell_type": "code",
   "execution_count": 11,
   "id": "9d9042ca",
   "metadata": {},
   "outputs": [
    {
     "data": {
      "text/plain": [
       "(10, -1.279296875)"
      ]
     },
     "execution_count": 11,
     "metadata": {},
     "output_type": "execute_result"
    }
   ],
   "source": [
    "from math import *\n",
    "\n",
    "def f(x):\n",
    "    return x + exp(x) + 1\n",
    "\n",
    "\n",
    "\n",
    "\n",
    "def biseccion(n, intervalo, f):\n",
    "    \"\"\"\n",
    "    PROPÓSITO: Calcula el término *n* de la sucesión de Bisección comenzando en el intervalo *intervalo* aplicada a la función  *f*.\n",
    "    PRECONDICIONES:\n",
    "        - f debe tener una única raíz en *intervalo* y ser continua.\n",
    "        - *intervalo* debe ser una lista [a, b]\n",
    "    PARÁMETROS:\n",
    "        - n. Entero positivo...\n",
    "        - intervalo.  Lista...\n",
    "        - f. Función...\n",
    "    \"\"\"\n",
    "\n",
    "    a, b = intervalo\n",
    "    xn = (a + b) / 2 # x1 =2\n",
    "    #print(xn)\n",
    "    k = 1 # inicializo el contador\n",
    "    while k < n:\n",
    "        if f(a) * f(xn) < 0: # alpha se encuentra en la mitad izquierda\n",
    "            b = xn\n",
    "            #print(b)\n",
    "        else:\n",
    "            a = xn\n",
    "        xn = (a + b) / 2 # actualizo xn\n",
    "        k += 1 # actualizo el contador\n",
    "        #print(k ,\"   \", a, \"  \", b ,  \" \" , xn)\n",
    "        #print(xn)\n",
    "    return k, xn\n",
    "\n",
    "\n",
    "biseccion(10, [-2, 0], f)\n",
    "\n",
    "#print(f(-2))"
   ]
  },
  {
   "cell_type": "markdown",
   "id": "45a6f708",
   "metadata": {},
   "source": [
    "## f- strings"
   ]
  },
  {
   "cell_type": "code",
   "execution_count": 17,
   "id": "e6d6f7b6",
   "metadata": {},
   "outputs": [
    {
     "name": "stdout",
     "output_type": "stream",
     "text": [
      "-0.86       0.37  1.11  2.0\n",
      "     -0.86  0.37  1.11  2.0\n",
      "-8.65e-01   3.68e-01  1.11e+00  2.0\n"
     ]
    }
   ],
   "source": [
    "print(f'{f(-2): <10.2f}', f'{f(-1): 4.2f}', f'{f(-0.5): 4.2f}', f'{f(0): 4}')\n",
    "print(f'{f(-2): >10.2f}', f'{f(-1): 4.2f}', f'{f(-0.5): 4.2f}', f'{f(0): 4}')\n",
    "print(f'{f(-2): <10.2e}', f'{f(-1): 4.2e}', f'{f(-0.5): 4.2e}', f'{f(0): 4}')"
   ]
  }
 ],
 "metadata": {
  "kernelspec": {
   "display_name": "cc2025",
   "language": "python",
   "name": "python3"
  },
  "language_info": {
   "codemirror_mode": {
    "name": "ipython",
    "version": 3
   },
   "file_extension": ".py",
   "mimetype": "text/x-python",
   "name": "python",
   "nbconvert_exporter": "python",
   "pygments_lexer": "ipython3",
   "version": "3.13.2"
  }
 },
 "nbformat": 4,
 "nbformat_minor": 5
}
