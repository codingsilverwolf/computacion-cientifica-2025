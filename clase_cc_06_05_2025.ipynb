{
 "cells": [
  {
   "cell_type": "markdown",
   "id": "d8912550-0c53-4815-b2b9-0f0d75aa3ed5",
   "metadata": {},
   "source": [
    "# Mejora de métodos"
   ]
  },
  {
   "cell_type": "markdown",
   "id": "fd63bd9b-315a-49a4-9707-671a1e90c1cf",
   "metadata": {},
   "source": [
    "## Bisección"
   ]
  },
  {
   "cell_type": "code",
   "execution_count": 1,
   "id": "450a395c-73b7-4f96-b98d-c5d5487e41b3",
   "metadata": {},
   "outputs": [
    {
     "data": {
      "text/plain": [
       "(1, 4, 2.5)"
      ]
     },
     "execution_count": 1,
     "metadata": {},
     "output_type": "execute_result"
    }
   ],
   "source": [
    "from math import *\n",
    "\n",
    "def h(x):\n",
    "    return (x-3)**3\n",
    "    \n",
    "def biseccion(f, intervalo, n):\n",
    "    \"\"\"\n",
    "    PROPÓSITO: calcula el término *n* de la sucesión de                          bisección aplicada a *f* en *intervalo* y los extremos del mismo.\n",
    "    PRECONDICIONES: f debe tener una única raíz en *intervalo*, ser continua     y f(a)f(b)< 0.\n",
    "    PARÁMETROS:\n",
    "        - f. función. La función involucrada.\n",
    "        - intervalo. Lista =  [a, b]. \n",
    "        - n. Entero positivo. El índice del término de la                sucesión de bisección.\n",
    "    \"\"\"\n",
    "    a, b = intervalo\n",
    "    # inicializamos sucesión y contador\n",
    "    xn =  a + (b-a)/2\n",
    "    k =  1\n",
    "    while k < n:\n",
    "        if f(a)*f(xn)<0:\n",
    "            b = xn\n",
    "        else:\n",
    "            a = xn\n",
    "        # actualizamos sucesión y contador    \n",
    "        xn =  a + (b-a)/2  \n",
    "        k =  k + 1\n",
    "    return a, b, xn\n",
    "    \n",
    "biseccion(h, [1, 4], 1)"
   ]
  },
  {
   "cell_type": "code",
   "execution_count": 2,
   "id": "5e641cd3-b164-41ee-a843-c597826b31d5",
   "metadata": {},
   "outputs": [
    {
     "name": "stdout",
     "output_type": "stream",
     "text": [
      "(1, 'A')\n",
      "(2, 'B')\n"
     ]
    }
   ],
   "source": [
    "lista1 = [1, 2]\n",
    "lista2 = ['A', 'B']\n",
    "\n",
    "zipeado = zip(lista1, lista2)\n",
    "\n",
    "for elemento in zipeado:\n",
    "    print(elemento)"
   ]
  },
  {
   "cell_type": "code",
   "execution_count": 3,
   "id": "06df886c-5ec1-4d9e-8618-0f0c161b4ce7",
   "metadata": {},
   "outputs": [
    {
     "data": {
      "text/html": [
       "<div>\n",
       "<style scoped>\n",
       "    .dataframe tbody tr th:only-of-type {\n",
       "        vertical-align: middle;\n",
       "    }\n",
       "\n",
       "    .dataframe tbody tr th {\n",
       "        vertical-align: top;\n",
       "    }\n",
       "\n",
       "    .dataframe thead th {\n",
       "        text-align: right;\n",
       "    }\n",
       "</style>\n",
       "<table border=\"1\" class=\"dataframe\">\n",
       "  <thead>\n",
       "    <tr style=\"text-align: right;\">\n",
       "      <th></th>\n",
       "      <th>a</th>\n",
       "      <th>b</th>\n",
       "      <th>xn</th>\n",
       "    </tr>\n",
       "  </thead>\n",
       "  <tbody>\n",
       "    <tr>\n",
       "      <th>0</th>\n",
       "      <td>-2.000000</td>\n",
       "      <td>1</td>\n",
       "      <td>-0.500000</td>\n",
       "    </tr>\n",
       "    <tr>\n",
       "      <th>1</th>\n",
       "      <td>-0.500000</td>\n",
       "      <td>1</td>\n",
       "      <td>0.250000</td>\n",
       "    </tr>\n",
       "    <tr>\n",
       "      <th>2</th>\n",
       "      <td>0.250000</td>\n",
       "      <td>1</td>\n",
       "      <td>0.625000</td>\n",
       "    </tr>\n",
       "    <tr>\n",
       "      <th>3</th>\n",
       "      <td>0.625000</td>\n",
       "      <td>1</td>\n",
       "      <td>0.812500</td>\n",
       "    </tr>\n",
       "    <tr>\n",
       "      <th>4</th>\n",
       "      <td>0.812500</td>\n",
       "      <td>1</td>\n",
       "      <td>0.906250</td>\n",
       "    </tr>\n",
       "    <tr>\n",
       "      <th>5</th>\n",
       "      <td>0.906250</td>\n",
       "      <td>1</td>\n",
       "      <td>0.953125</td>\n",
       "    </tr>\n",
       "    <tr>\n",
       "      <th>6</th>\n",
       "      <td>0.953125</td>\n",
       "      <td>1</td>\n",
       "      <td>0.976562</td>\n",
       "    </tr>\n",
       "    <tr>\n",
       "      <th>7</th>\n",
       "      <td>0.976562</td>\n",
       "      <td>1</td>\n",
       "      <td>0.988281</td>\n",
       "    </tr>\n",
       "    <tr>\n",
       "      <th>8</th>\n",
       "      <td>0.988281</td>\n",
       "      <td>1</td>\n",
       "      <td>0.994141</td>\n",
       "    </tr>\n",
       "  </tbody>\n",
       "</table>\n",
       "</div>"
      ],
      "text/plain": [
       "          a  b        xn\n",
       "0 -2.000000  1 -0.500000\n",
       "1 -0.500000  1  0.250000\n",
       "2  0.250000  1  0.625000\n",
       "3  0.625000  1  0.812500\n",
       "4  0.812500  1  0.906250\n",
       "5  0.906250  1  0.953125\n",
       "6  0.953125  1  0.976562\n",
       "7  0.976562  1  0.988281\n",
       "8  0.988281  1  0.994141"
      ]
     },
     "execution_count": 3,
     "metadata": {},
     "output_type": "execute_result"
    }
   ],
   "source": [
    "import numpy as np\n",
    "import pandas as pd\n",
    "\n",
    "def df_biseccion(f, intervalo, cantidad_iteraciones):\n",
    "    # guardamos en resultados una lista con las llamadas a biseccion. Cada elemento de la lista es una 3-upla (a, b, xn) \n",
    "    resultados = [biseccion(f, intervalo, n) for n in range(1, cantidad_iteraciones)]\n",
    "\n",
    "    # Armamos los arrays de forma natural\n",
    "    sucesion_a = np.array([resultado[0] for resultado in resultados])\n",
    "    sucesion_b = np.array([resultado[1] for resultado in resultados])\n",
    "    sucesion = np.array([resultado[2] for resultado in resultados])\n",
    "\n",
    "    # zipeamos las columnas para pasarlas a pandas \n",
    "    \n",
    "    return pd.DataFrame(zip(sucesion_a, sucesion_b, sucesion), columns=[\"a\", \"b\", \"xn\"])\n",
    "\n",
    "test = df_biseccion(h, [-2, 1], 10)\n",
    "\n",
    "test"
   ]
  },
  {
   "cell_type": "markdown",
   "id": "fead2702-0876-49ff-a29c-7ca57fc0580e",
   "metadata": {},
   "source": [
    "# Dejamos este código como ejemplo de lo que no hay que hacer (no hay que repetir código)"
   ]
  },
  {
   "cell_type": "raw",
   "id": "b458630e-43d9-408d-ba83-ba803ce11bc0",
   "metadata": {},
   "source": [
    "import numpy as np\n",
    "import pandas as pd\n",
    "\n",
    "def df_biseccion(f, intervalo, cantidad_iteraciones):\n",
    "    \n",
    "    # Se puede mejorar\n",
    "    sucesion_a =  np.array([biseccion(f, intervalo, n)[0] for n      in          range(1, cantidad_iteraciones)])\n",
    "    sucesion_b = np.array([biseccion(f, intervalo, n)[1] for n       in          range(1, cantidad_iteraciones)])\n",
    "    sucesion = np.array([biseccion(f, intervalo, n)[2] for n in                  range(1, cantidad_iteraciones)])\n",
    "\n",
    "    columnas = zip(sucesion_a, sucesion_b, sucesion)\n",
    "   \n",
    "    tabla = pd.DataFrame(columnas, columns=[\"a\", \"b\", \"xn\"])\n",
    "    return tabla    \n",
    "    \n",
    "\n",
    "df_biseccion(h, [1,4], 10)\n",
    "\n",
    "\n"
   ]
  },
  {
   "cell_type": "markdown",
   "id": "fc7be1c1-ef5d-4313-bcb0-7fdbab360a98",
   "metadata": {},
   "source": [
    "# Operaciones en df"
   ]
  },
  {
   "cell_type": "code",
   "execution_count": 4,
   "id": "e62f5f75-fa59-48b2-8f8a-1979e69c1356",
   "metadata": {},
   "outputs": [
    {
     "data": {
      "text/html": [
       "<div>\n",
       "<style scoped>\n",
       "    .dataframe tbody tr th:only-of-type {\n",
       "        vertical-align: middle;\n",
       "    }\n",
       "\n",
       "    .dataframe tbody tr th {\n",
       "        vertical-align: top;\n",
       "    }\n",
       "\n",
       "    .dataframe thead th {\n",
       "        text-align: right;\n",
       "    }\n",
       "</style>\n",
       "<table border=\"1\" class=\"dataframe\">\n",
       "  <thead>\n",
       "    <tr style=\"text-align: right;\">\n",
       "      <th></th>\n",
       "      <th>a</th>\n",
       "      <th>b</th>\n",
       "      <th>xn</th>\n",
       "    </tr>\n",
       "  </thead>\n",
       "  <tbody>\n",
       "    <tr>\n",
       "      <th>0</th>\n",
       "      <td>-2.000000</td>\n",
       "      <td>1</td>\n",
       "      <td>-0.500000</td>\n",
       "    </tr>\n",
       "    <tr>\n",
       "      <th>1</th>\n",
       "      <td>-0.500000</td>\n",
       "      <td>1</td>\n",
       "      <td>0.250000</td>\n",
       "    </tr>\n",
       "    <tr>\n",
       "      <th>2</th>\n",
       "      <td>0.250000</td>\n",
       "      <td>1</td>\n",
       "      <td>0.625000</td>\n",
       "    </tr>\n",
       "    <tr>\n",
       "      <th>3</th>\n",
       "      <td>0.625000</td>\n",
       "      <td>1</td>\n",
       "      <td>0.812500</td>\n",
       "    </tr>\n",
       "    <tr>\n",
       "      <th>4</th>\n",
       "      <td>0.812500</td>\n",
       "      <td>1</td>\n",
       "      <td>0.906250</td>\n",
       "    </tr>\n",
       "    <tr>\n",
       "      <th>5</th>\n",
       "      <td>0.906250</td>\n",
       "      <td>1</td>\n",
       "      <td>0.953125</td>\n",
       "    </tr>\n",
       "    <tr>\n",
       "      <th>6</th>\n",
       "      <td>0.953125</td>\n",
       "      <td>1</td>\n",
       "      <td>0.976562</td>\n",
       "    </tr>\n",
       "    <tr>\n",
       "      <th>7</th>\n",
       "      <td>0.976562</td>\n",
       "      <td>1</td>\n",
       "      <td>0.988281</td>\n",
       "    </tr>\n",
       "    <tr>\n",
       "      <th>8</th>\n",
       "      <td>0.988281</td>\n",
       "      <td>1</td>\n",
       "      <td>0.994141</td>\n",
       "    </tr>\n",
       "  </tbody>\n",
       "</table>\n",
       "</div>"
      ],
      "text/plain": [
       "          a  b        xn\n",
       "0 -2.000000  1 -0.500000\n",
       "1 -0.500000  1  0.250000\n",
       "2  0.250000  1  0.625000\n",
       "3  0.625000  1  0.812500\n",
       "4  0.812500  1  0.906250\n",
       "5  0.906250  1  0.953125\n",
       "6  0.953125  1  0.976562\n",
       "7  0.976562  1  0.988281\n",
       "8  0.988281  1  0.994141"
      ]
     },
     "execution_count": 4,
     "metadata": {},
     "output_type": "execute_result"
    }
   ],
   "source": [
    "test"
   ]
  },
  {
   "cell_type": "code",
   "execution_count": 5,
   "id": "1f854e15-c59c-4e71-86a2-ad5730e914bf",
   "metadata": {},
   "outputs": [],
   "source": [
    "## Operaciones en columnas"
   ]
  },
  {
   "cell_type": "code",
   "execution_count": 6,
   "id": "c6fe6fcd-3a91-4a9a-a96d-26b3d77882ba",
   "metadata": {},
   "outputs": [
    {
     "data": {
      "text/html": [
       "<div>\n",
       "<style scoped>\n",
       "    .dataframe tbody tr th:only-of-type {\n",
       "        vertical-align: middle;\n",
       "    }\n",
       "\n",
       "    .dataframe tbody tr th {\n",
       "        vertical-align: top;\n",
       "    }\n",
       "\n",
       "    .dataframe thead th {\n",
       "        text-align: right;\n",
       "    }\n",
       "</style>\n",
       "<table border=\"1\" class=\"dataframe\">\n",
       "  <thead>\n",
       "    <tr style=\"text-align: right;\">\n",
       "      <th></th>\n",
       "      <th>a</th>\n",
       "      <th>b</th>\n",
       "      <th>xn</th>\n",
       "    </tr>\n",
       "  </thead>\n",
       "  <tbody>\n",
       "    <tr>\n",
       "      <th>0</th>\n",
       "      <td>-2.0000</td>\n",
       "      <td>1</td>\n",
       "      <td>-0.50000</td>\n",
       "    </tr>\n",
       "    <tr>\n",
       "      <th>1</th>\n",
       "      <td>-0.5000</td>\n",
       "      <td>1</td>\n",
       "      <td>0.25000</td>\n",
       "    </tr>\n",
       "    <tr>\n",
       "      <th>2</th>\n",
       "      <td>0.2500</td>\n",
       "      <td>1</td>\n",
       "      <td>0.62500</td>\n",
       "    </tr>\n",
       "    <tr>\n",
       "      <th>3</th>\n",
       "      <td>0.6250</td>\n",
       "      <td>1</td>\n",
       "      <td>0.81250</td>\n",
       "    </tr>\n",
       "    <tr>\n",
       "      <th>4</th>\n",
       "      <td>0.8125</td>\n",
       "      <td>1</td>\n",
       "      <td>0.90625</td>\n",
       "    </tr>\n",
       "  </tbody>\n",
       "</table>\n",
       "</div>"
      ],
      "text/plain": [
       "        a  b       xn\n",
       "0 -2.0000  1 -0.50000\n",
       "1 -0.5000  1  0.25000\n",
       "2  0.2500  1  0.62500\n",
       "3  0.6250  1  0.81250\n",
       "4  0.8125  1  0.90625"
      ]
     },
     "execution_count": 6,
     "metadata": {},
     "output_type": "execute_result"
    }
   ],
   "source": [
    "test[(test.a < 0.9) | (test.b < 1)]\n",
    "\n",
    "# & para intersección, | para unión, ~ para negación"
   ]
  },
  {
   "cell_type": "markdown",
   "id": "1af58fc6-9746-440d-8ec8-a77bae718aae",
   "metadata": {},
   "source": [
    "## Operaciones en filas"
   ]
  },
  {
   "cell_type": "code",
   "execution_count": 7,
   "id": "1224c946-21f4-4fd8-83a4-06d5d46cf26c",
   "metadata": {},
   "outputs": [
    {
     "data": {
      "text/html": [
       "<div>\n",
       "<style scoped>\n",
       "    .dataframe tbody tr th:only-of-type {\n",
       "        vertical-align: middle;\n",
       "    }\n",
       "\n",
       "    .dataframe tbody tr th {\n",
       "        vertical-align: top;\n",
       "    }\n",
       "\n",
       "    .dataframe thead th {\n",
       "        text-align: right;\n",
       "    }\n",
       "</style>\n",
       "<table border=\"1\" class=\"dataframe\">\n",
       "  <thead>\n",
       "    <tr style=\"text-align: right;\">\n",
       "      <th></th>\n",
       "      <th>a</th>\n",
       "      <th>b</th>\n",
       "      <th>xn</th>\n",
       "    </tr>\n",
       "  </thead>\n",
       "  <tbody>\n",
       "    <tr>\n",
       "      <th>2</th>\n",
       "      <td>0.250000</td>\n",
       "      <td>1</td>\n",
       "      <td>0.625000</td>\n",
       "    </tr>\n",
       "    <tr>\n",
       "      <th>3</th>\n",
       "      <td>0.625000</td>\n",
       "      <td>1</td>\n",
       "      <td>0.812500</td>\n",
       "    </tr>\n",
       "    <tr>\n",
       "      <th>4</th>\n",
       "      <td>0.812500</td>\n",
       "      <td>1</td>\n",
       "      <td>0.906250</td>\n",
       "    </tr>\n",
       "    <tr>\n",
       "      <th>5</th>\n",
       "      <td>0.906250</td>\n",
       "      <td>1</td>\n",
       "      <td>0.953125</td>\n",
       "    </tr>\n",
       "    <tr>\n",
       "      <th>6</th>\n",
       "      <td>0.953125</td>\n",
       "      <td>1</td>\n",
       "      <td>0.976562</td>\n",
       "    </tr>\n",
       "  </tbody>\n",
       "</table>\n",
       "</div>"
      ],
      "text/plain": [
       "          a  b        xn\n",
       "2  0.250000  1  0.625000\n",
       "3  0.625000  1  0.812500\n",
       "4  0.812500  1  0.906250\n",
       "5  0.906250  1  0.953125\n",
       "6  0.953125  1  0.976562"
      ]
     },
     "execution_count": 7,
     "metadata": {},
     "output_type": "execute_result"
    }
   ],
   "source": [
    "test.iloc[2:7]"
   ]
  },
  {
   "cell_type": "code",
   "execution_count": 8,
   "id": "a7b54258-61bc-4da8-8daf-9f10ec51fa4d",
   "metadata": {},
   "outputs": [
    {
     "data": {
      "text/html": [
       "<div>\n",
       "<style scoped>\n",
       "    .dataframe tbody tr th:only-of-type {\n",
       "        vertical-align: middle;\n",
       "    }\n",
       "\n",
       "    .dataframe tbody tr th {\n",
       "        vertical-align: top;\n",
       "    }\n",
       "\n",
       "    .dataframe thead th {\n",
       "        text-align: right;\n",
       "    }\n",
       "</style>\n",
       "<table border=\"1\" class=\"dataframe\">\n",
       "  <thead>\n",
       "    <tr style=\"text-align: right;\">\n",
       "      <th></th>\n",
       "      <th>a</th>\n",
       "      <th>b</th>\n",
       "      <th>xn</th>\n",
       "    </tr>\n",
       "  </thead>\n",
       "  <tbody>\n",
       "    <tr>\n",
       "      <th>2</th>\n",
       "      <td>0.25</td>\n",
       "      <td>1</td>\n",
       "      <td>0.625</td>\n",
       "    </tr>\n",
       "  </tbody>\n",
       "</table>\n",
       "</div>"
      ],
      "text/plain": [
       "      a  b     xn\n",
       "2  0.25  1  0.625"
      ]
     },
     "execution_count": 8,
     "metadata": {},
     "output_type": "execute_result"
    }
   ],
   "source": [
    "test.iloc[[2]]"
   ]
  },
  {
   "cell_type": "code",
   "execution_count": 9,
   "id": "9559729c-76a9-4cd6-9269-aa3867bc082e",
   "metadata": {},
   "outputs": [
    {
     "data": {
      "text/html": [
       "<div>\n",
       "<style scoped>\n",
       "    .dataframe tbody tr th:only-of-type {\n",
       "        vertical-align: middle;\n",
       "    }\n",
       "\n",
       "    .dataframe tbody tr th {\n",
       "        vertical-align: top;\n",
       "    }\n",
       "\n",
       "    .dataframe thead th {\n",
       "        text-align: right;\n",
       "    }\n",
       "</style>\n",
       "<table border=\"1\" class=\"dataframe\">\n",
       "  <thead>\n",
       "    <tr style=\"text-align: right;\">\n",
       "      <th></th>\n",
       "      <th>a</th>\n",
       "      <th>b</th>\n",
       "      <th>xn</th>\n",
       "    </tr>\n",
       "  </thead>\n",
       "  <tbody>\n",
       "    <tr>\n",
       "      <th>2</th>\n",
       "      <td>0.250</td>\n",
       "      <td>1</td>\n",
       "      <td>0.6250</td>\n",
       "    </tr>\n",
       "    <tr>\n",
       "      <th>3</th>\n",
       "      <td>0.625</td>\n",
       "      <td>1</td>\n",
       "      <td>0.8125</td>\n",
       "    </tr>\n",
       "  </tbody>\n",
       "</table>\n",
       "</div>"
      ],
      "text/plain": [
       "       a  b      xn\n",
       "2  0.250  1  0.6250\n",
       "3  0.625  1  0.8125"
      ]
     },
     "execution_count": 9,
     "metadata": {},
     "output_type": "execute_result"
    }
   ],
   "source": [
    "test.iloc[[2, 3]]"
   ]
  },
  {
   "cell_type": "code",
   "execution_count": 10,
   "id": "646193c6-e423-4c06-aea3-a35b8a436150",
   "metadata": {},
   "outputs": [
    {
     "data": {
      "text/html": [
       "<div>\n",
       "<style scoped>\n",
       "    .dataframe tbody tr th:only-of-type {\n",
       "        vertical-align: middle;\n",
       "    }\n",
       "\n",
       "    .dataframe tbody tr th {\n",
       "        vertical-align: top;\n",
       "    }\n",
       "\n",
       "    .dataframe thead th {\n",
       "        text-align: right;\n",
       "    }\n",
       "</style>\n",
       "<table border=\"1\" class=\"dataframe\">\n",
       "  <thead>\n",
       "    <tr style=\"text-align: right;\">\n",
       "      <th></th>\n",
       "      <th>xn</th>\n",
       "    </tr>\n",
       "  </thead>\n",
       "  <tbody>\n",
       "    <tr>\n",
       "      <th>2</th>\n",
       "      <td>0.6250</td>\n",
       "    </tr>\n",
       "    <tr>\n",
       "      <th>3</th>\n",
       "      <td>0.8125</td>\n",
       "    </tr>\n",
       "  </tbody>\n",
       "</table>\n",
       "</div>"
      ],
      "text/plain": [
       "       xn\n",
       "2  0.6250\n",
       "3  0.8125"
      ]
     },
     "execution_count": 10,
     "metadata": {},
     "output_type": "execute_result"
    }
   ],
   "source": [
    "# las mismas filas que antes, pero con la condición de que la columna sea la de posición 2\n",
    "test.iloc[[2, 3], [2]]"
   ]
  },
  {
   "cell_type": "markdown",
   "id": "b10892eb-2032-4f24-9b29-6cf4fed3539e",
   "metadata": {},
   "source": [
    "## Plots"
   ]
  },
  {
   "cell_type": "code",
   "execution_count": 11,
   "id": "b77b41bb-7ec6-4fec-ae1f-37eab002fbb3",
   "metadata": {},
   "outputs": [
    {
     "data": {
      "text/plain": [
       "<Axes: >"
      ]
     },
     "execution_count": 11,
     "metadata": {},
     "output_type": "execute_result"
    },
    {
     "data": {
      "image/png": "[encoded data removed]",
      "text/plain": [
       "<Figure size 640x480 with 1 Axes>"
      ]
     },
     "metadata": {},
     "output_type": "display_data"
    }
   ],
   "source": [
    "# Por default Pandas plotea la columna en relación al index\n",
    "test.xn.plot()"
   ]
  },
  {
   "cell_type": "code",
   "execution_count": 12,
   "id": "8d9e3169-c42b-4a16-862f-03e2f9a94534",
   "metadata": {},
   "outputs": [],
   "source": [
    "## Plotear una columna en relación a otra"
   ]
  },
  {
   "cell_type": "code",
   "execution_count": 13,
   "id": "e49a5d49-4ad0-46d2-8ac6-0420559bf8f9",
   "metadata": {},
   "outputs": [
    {
     "data": {
      "text/plain": [
       "<Axes: xlabel='a', ylabel='b'>"
      ]
     },
     "execution_count": 13,
     "metadata": {},
     "output_type": "execute_result"
    },
    {
     "data": {
      "image/png": "[encoded data removed]",
      "text/plain": [
       "<Figure size 640x480 with 1 Axes>"
      ]
     },
     "metadata": {},
     "output_type": "display_data"
    }
   ],
   "source": [
    "test.plot.scatter('a', 'b')"
   ]
  },
  {
   "cell_type": "markdown",
   "id": "ca88c684-a28e-4b85-9f54-7813f5982ea7",
   "metadata": {},
   "source": [
    "# Criterio STOP (está feo, abajo lo mejoramos utilizando subtareas)"
   ]
  },
  {
   "cell_type": "code",
   "execution_count": 14,
   "id": "542f6633-5547-4584-b6c9-1a397a20bc94",
   "metadata": {},
   "outputs": [
    {
     "name": "stdout",
     "output_type": "stream",
     "text": [
      "0.6\n",
      "1.25 2.5\n",
      "1.0\n",
      "0.625 1.25\n",
      "1.0\n",
      "0.9375 0.625\n",
      "0.3333333333333333\n",
      "1.09375 0.9375\n",
      "0.14285714285714285\n",
      "1.015625 1.09375\n"
     ]
    },
    {
     "data": {
      "text/plain": [
       "(0.9375, 1.09375, 1.015625)"
      ]
     },
     "execution_count": 14,
     "metadata": {},
     "output_type": "execute_result"
    }
   ],
   "source": [
    "def h(x):\n",
    "    return (x-1)**3\n",
    "    \n",
    "def biseccion_stop_ugly(f, intervalo, stop):\n",
    "    \"\"\"\n",
    "    PROPÓSITO: calcula la sucesión de bisección aplicada a *f* en *intervalo* y los extremos del mismo hasta que se cumpla el criterio de stop inducido por *stop*.\n",
    "    PRECONDICIONES: f debe tener una única raíz en *intervalo*, ser continua     y f(a)f(b) < 0.\n",
    "    PARÁMETROS:\n",
    "        - f. función. La función involucrada.\n",
    "        - intervalo. Lista =  [a, b]. \n",
    "        - n. Entero positivo. El índice del término de la                sucesión de bisección.\n",
    "    \"\"\"\n",
    "    a, b = intervalo\n",
    "    # inicializamos sucesión y contador\n",
    "    xn1 =  a + (b-a)/2\n",
    "    xn = 1\n",
    "    k =  1\n",
    "    \n",
    "    while abs((xn1 - xn)/ xn1) > stop:\n",
    "        print(abs((xn1 - xn)/xn1))\n",
    "        if f(a)*f(xn1)<0:\n",
    "            b = xn1\n",
    "        else:\n",
    "            a = xn1\n",
    "        # actualizamos sucesión y contador    \n",
    "        xn = xn1\n",
    "        xn1 =  a + (b-a)/2  \n",
    "        k =  k + 1\n",
    "        print(xn1, xn)\n",
    "    return a, b, xn1\n",
    "\n",
    "\n",
    "biseccion_stop_ugly(h,  [0, 5], 0.1)"
   ]
  },
  {
   "cell_type": "markdown",
   "id": "c9a7fd88-d830-402a-b044-999674b8e2e9",
   "metadata": {},
   "source": [
    "# TAREA: ¿Es cierto que si $f$ tiene un único cero en $x=0 \\in [a, b]$ y $f(a)f(b) < 0$, entonces el criterio de aproximación de error  relativo\n",
    "\n",
    "# $\\left|\\frac{x_{n+1} - x_{n}}{x_{n+1}}\\right|$\n",
    "\n",
    "# falla?"
   ]
  },
  {
   "cell_type": "markdown",
   "id": "691d0855-ec0a-43d9-864b-60b21b6ce24e",
   "metadata": {},
   "source": [
    "# Hagamos subtareas para mejorar el código de bisección que tiene criterio de stop de error relativo"
   ]
  },
  {
   "cell_type": "code",
   "execution_count": 15,
   "id": "deb88935-48ad-4794-a53d-4e7320a08832",
   "metadata": {},
   "outputs": [
    {
     "data": {
      "text/plain": [
       "1.015625"
      ]
     },
     "execution_count": 15,
     "metadata": {},
     "output_type": "execute_result"
    }
   ],
   "source": [
    "def error_relativo(xn1, xn):\n",
    "    return abs((xn1-xn)/xn1)\n",
    "\n",
    "# print(biseccion(h, [0,5], 2)[2])\n",
    "\n",
    "def biseccion_stop(f, intervalo, stop):\n",
    "    i = 1\n",
    "    xn1 = biseccion(f, intervalo, i + 1)[2]\n",
    "    xn  = biseccion(f, intervalo, i)[2]\n",
    "    while error_relativo(xn1, xn) > stop:\n",
    "        i = i + 1\n",
    "        xn1 = biseccion(f, intervalo, i + 1)[2]\n",
    "        xn  = biseccion(f, intervalo, i)[2]\n",
    "    return xn1\n",
    "        \n",
    "biseccion_stop(h, [0, 5], 0.1)"
   ]
  },
  {
   "cell_type": "markdown",
   "id": "b1cbaab4-16ba-4f9f-8971-da0b0a27f64d",
   "metadata": {},
   "source": [
    "# TAREA 2: Si llamamos a bisección_stop (o a cualquiera de las anteriores) con $h = (x-1)^3$ en el intervalo $[0, 4]$ obtenemos un error en el output. Corregirlo."
   ]
  },
  {
   "cell_type": "markdown",
   "id": "dbcea386-36a4-4e78-8681-0fbcc3acbd90",
   "metadata": {},
   "source": [
    "# TAREA 3: Ahora que nos dimos cuenta que podemos utilizar subtareas para que el código siga las buenas prácticas, ¿será posible definir una función que como output de un df como el anterior, pero con la columna de error relativo como cuarta columna? Intente programarla."
   ]
  },
  {
   "cell_type": "code",
   "execution_count": 16,
   "id": "d97a340e-4210-485c-a197-ea9c18c51277",
   "metadata": {},
   "outputs": [
    {
     "data": {
      "text/plain": [
       "0.7314040424225098"
      ]
     },
     "execution_count": 16,
     "metadata": {},
     "output_type": "execute_result"
    }
   ],
   "source": [
    "def g(x):\n",
    "    return cos(x)\n",
    "\n",
    "\n",
    "\n",
    "def pf(g, x, n):\n",
    "    \"\"\"\n",
    "    PROPÓSITO: calcula el término *n* de la sucesión de punto g(x) aplicada a *f* en *intervalo* y los extremos del mismo.\n",
    "    \"\"\"\n",
    "    i =  1\n",
    "    while i < n:\n",
    "        x = g(x)\n",
    "        i = i + 1\n",
    "    return x\n",
    "\n",
    "\n",
    "pf(g, 1, 10)\n"
   ]
  },
  {
   "cell_type": "code",
   "execution_count": 30,
   "id": "ceb33e8f-4674-45dc-ae6c-0e170277513f",
   "metadata": {},
   "outputs": [
    {
     "data": {
      "text/html": [
       "<div>\n",
       "<style scoped>\n",
       "    .dataframe tbody tr th:only-of-type {\n",
       "        vertical-align: middle;\n",
       "    }\n",
       "\n",
       "    .dataframe tbody tr th {\n",
       "        vertical-align: top;\n",
       "    }\n",
       "\n",
       "    .dataframe thead th {\n",
       "        text-align: right;\n",
       "    }\n",
       "</style>\n",
       "<table border=\"1\" class=\"dataframe\">\n",
       "  <thead>\n",
       "    <tr style=\"text-align: right;\">\n",
       "      <th></th>\n",
       "      <th>xn</th>\n",
       "    </tr>\n",
       "  </thead>\n",
       "  <tbody>\n",
       "    <tr>\n",
       "      <th>1</th>\n",
       "      <td>1.000000</td>\n",
       "    </tr>\n",
       "    <tr>\n",
       "      <th>2</th>\n",
       "      <td>0.540302</td>\n",
       "    </tr>\n",
       "    <tr>\n",
       "      <th>3</th>\n",
       "      <td>0.857553</td>\n",
       "    </tr>\n",
       "    <tr>\n",
       "      <th>4</th>\n",
       "      <td>0.654290</td>\n",
       "    </tr>\n",
       "    <tr>\n",
       "      <th>5</th>\n",
       "      <td>0.793480</td>\n",
       "    </tr>\n",
       "    <tr>\n",
       "      <th>6</th>\n",
       "      <td>0.701369</td>\n",
       "    </tr>\n",
       "    <tr>\n",
       "      <th>7</th>\n",
       "      <td>0.763960</td>\n",
       "    </tr>\n",
       "    <tr>\n",
       "      <th>8</th>\n",
       "      <td>0.722102</td>\n",
       "    </tr>\n",
       "    <tr>\n",
       "      <th>9</th>\n",
       "      <td>0.750418</td>\n",
       "    </tr>\n",
       "    <tr>\n",
       "      <th>10</th>\n",
       "      <td>0.731404</td>\n",
       "    </tr>\n",
       "  </tbody>\n",
       "</table>\n",
       "</div>"
      ],
      "text/plain": [
       "          xn\n",
       "1   1.000000\n",
       "2   0.540302\n",
       "3   0.857553\n",
       "4   0.654290\n",
       "5   0.793480\n",
       "6   0.701369\n",
       "7   0.763960\n",
       "8   0.722102\n",
       "9   0.750418\n",
       "10  0.731404"
      ]
     },
     "execution_count": 30,
     "metadata": {},
     "output_type": "execute_result"
    }
   ],
   "source": [
    "def df_pf(g, x, cantidad_iteraciones):\n",
    "    # guardamos en resultados una lista con las llamadas a biseccion. Cada elemento de la lista es una 3-upla (a, b, xn)\n",
    "    index  = pd.RangeIndex(start = 1, stop =  cantidad_iteraciones + 1)\n",
    "    return pd.DataFrame(np.array([pf(g, x, n) for n in range(1, cantidad_iteraciones+1)]), columns=[\"xn\"], index = index)\n",
    "\n",
    "testpf = df_pf(g, 1, 10)\n",
    "\n",
    "testpf"
   ]
  },
  {
   "cell_type": "code",
   "execution_count": 53,
   "id": "b1925b2a-b4df-42d3-ada3-f112fa1e0c9d",
   "metadata": {},
   "outputs": [
    {
     "data": {
      "text/html": [
       "<div>\n",
       "<style scoped>\n",
       "    .dataframe tbody tr th:only-of-type {\n",
       "        vertical-align: middle;\n",
       "    }\n",
       "\n",
       "    .dataframe tbody tr th {\n",
       "        vertical-align: top;\n",
       "    }\n",
       "\n",
       "    .dataframe thead th {\n",
       "        text-align: right;\n",
       "    }\n",
       "</style>\n",
       "<table border=\"1\" class=\"dataframe\">\n",
       "  <thead>\n",
       "    <tr style=\"text-align: right;\">\n",
       "      <th></th>\n",
       "      <th>xn</th>\n",
       "      <th>error_rel</th>\n",
       "    </tr>\n",
       "  </thead>\n",
       "  <tbody>\n",
       "    <tr>\n",
       "      <th>1</th>\n",
       "      <td>1.000000</td>\n",
       "      <td>0.850816</td>\n",
       "    </tr>\n",
       "    <tr>\n",
       "      <th>2</th>\n",
       "      <td>0.540302</td>\n",
       "      <td>0.369949</td>\n",
       "    </tr>\n",
       "    <tr>\n",
       "      <th>3</th>\n",
       "      <td>0.857553</td>\n",
       "      <td>0.310663</td>\n",
       "    </tr>\n",
       "    <tr>\n",
       "      <th>4</th>\n",
       "      <td>0.654290</td>\n",
       "      <td>0.175418</td>\n",
       "    </tr>\n",
       "    <tr>\n",
       "      <th>5</th>\n",
       "      <td>0.793480</td>\n",
       "      <td>0.131331</td>\n",
       "    </tr>\n",
       "    <tr>\n",
       "      <th>6</th>\n",
       "      <td>0.701369</td>\n",
       "      <td>0.081930</td>\n",
       "    </tr>\n",
       "    <tr>\n",
       "      <th>7</th>\n",
       "      <td>0.763960</td>\n",
       "      <td>0.057966</td>\n",
       "    </tr>\n",
       "    <tr>\n",
       "      <th>8</th>\n",
       "      <td>0.722102</td>\n",
       "      <td>0.037733</td>\n",
       "    </tr>\n",
       "    <tr>\n",
       "      <th>9</th>\n",
       "      <td>0.750418</td>\n",
       "      <td>0.025996</td>\n",
       "    </tr>\n",
       "    <tr>\n",
       "      <th>10</th>\n",
       "      <td>0.731404</td>\n",
       "      <td>0.017244</td>\n",
       "    </tr>\n",
       "  </tbody>\n",
       "</table>\n",
       "</div>"
      ],
      "text/plain": [
       "          xn  error_rel\n",
       "1   1.000000   0.850816\n",
       "2   0.540302   0.369949\n",
       "3   0.857553   0.310663\n",
       "4   0.654290   0.175418\n",
       "5   0.793480   0.131331\n",
       "6   0.701369   0.081930\n",
       "7   0.763960   0.057966\n",
       "8   0.722102   0.037733\n",
       "9   0.750418   0.025996\n",
       "10  0.731404   0.017244"
      ]
     },
     "execution_count": 53,
     "metadata": {},
     "output_type": "execute_result"
    }
   ],
   "source": [
    "def df_pf_con_error_rel(g, x, cantidad_iteraciones):\n",
    "    # guardamos en resultados una lista con las llamadas a biseccion. Cada elemento de la lista es una 3-upla (a, b, xn)\n",
    "    index  = pd.RangeIndex(start = 1, stop =  cantidad_iteraciones + 1)\n",
    "    # resultados = [pf(g, x, n) for n in range(1, cantidad_iteraciones+1)]\n",
    "    # errores    = [error_relativo(pf(g, x, n+1),pf(g, x, n) ) for n in range (1, cantidad_iteraciones+1)]\n",
    "    # zip(resultados, errores)\n",
    "    return pd.DataFrame(zip([pf(g, x, n) for n in range(1, cantidad_iteraciones+1)], [error_relativo(pf(g, x, n+1),pf(g, x, n) ) for n in range (1, cantidad_iteraciones+1)]), columns=[\"xn\", \"error_rel\"], index = index) \n",
    "\n",
    "\n",
    "df_pf_con_error_rel(g, 1, 10)\n",
    "\n",
    "#testpf = df_pf(g, 1, 10)\n",
    "\n",
    "#testpf"
   ]
  },
  {
   "cell_type": "code",
   "execution_count": 54,
   "id": "e8a6991b-fc10-45a2-814d-59185ba96e4e",
   "metadata": {},
   "outputs": [
    {
     "data": {
      "text/plain": [
       "<Axes: >"
      ]
     },
     "execution_count": 54,
     "metadata": {},
     "output_type": "execute_result"
    },
    {
     "data": {
      "image/png": "[encoded data removed]",
      "text/plain": [
       "<Figure size 640x480 with 1 Axes>"
      ]
     },
     "metadata": {},
     "output_type": "display_data"
    }
   ],
   "source": [
    "testpf_rel =  df_pf_con_error_rel(g, 1, 10)\n",
    "\n",
    "\n",
    "testpf_rel.error_rel.plot()"
   ]
  },
  {
   "cell_type": "markdown",
   "id": "8cc442ce-3c3f-4073-bf46-cb535d8eeb90",
   "metadata": {},
   "source": [
    "### Una forma de hacer el scatter: agregar al index como columna."
   ]
  },
  {
   "cell_type": "code",
   "execution_count": 60,
   "id": "a56f5cba-4302-4b4e-a965-0dc0df00169a",
   "metadata": {},
   "outputs": [
    {
     "data": {
      "text/plain": [
       "<Axes: xlabel='indice', ylabel='error_rel'>"
      ]
     },
     "execution_count": 60,
     "metadata": {},
     "output_type": "execute_result"
    },
    {
     "data": {
      "image/png": "[encoded data removed]",
      "text/plain": [
       "<Figure size 640x480 with 1 Axes>"
      ]
     },
     "metadata": {},
     "output_type": "display_data"
    }
   ],
   "source": [
    "# Esto directamente agrega al final del df la columna que le pasamos del lado izquierdo\n",
    "testpf_rel['indice'] = testpf_rel.index\n",
    "\n",
    "testpf_rel.plot.scatter('indice', 'error_rel')"
   ]
  },
  {
   "cell_type": "code",
   "execution_count": 61,
   "id": "afe945b3-0e71-458d-85bc-619257161617",
   "metadata": {},
   "outputs": [
    {
     "data": {
      "text/html": [
       "<div>\n",
       "<style scoped>\n",
       "    .dataframe tbody tr th:only-of-type {\n",
       "        vertical-align: middle;\n",
       "    }\n",
       "\n",
       "    .dataframe tbody tr th {\n",
       "        vertical-align: top;\n",
       "    }\n",
       "\n",
       "    .dataframe thead th {\n",
       "        text-align: right;\n",
       "    }\n",
       "</style>\n",
       "<table border=\"1\" class=\"dataframe\">\n",
       "  <thead>\n",
       "    <tr style=\"text-align: right;\">\n",
       "      <th></th>\n",
       "      <th>xn</th>\n",
       "      <th>error_rel</th>\n",
       "      <th>indice</th>\n",
       "    </tr>\n",
       "  </thead>\n",
       "  <tbody>\n",
       "    <tr>\n",
       "      <th>1</th>\n",
       "      <td>1.000000</td>\n",
       "      <td>0.850816</td>\n",
       "      <td>1</td>\n",
       "    </tr>\n",
       "    <tr>\n",
       "      <th>2</th>\n",
       "      <td>0.540302</td>\n",
       "      <td>0.369949</td>\n",
       "      <td>2</td>\n",
       "    </tr>\n",
       "    <tr>\n",
       "      <th>3</th>\n",
       "      <td>0.857553</td>\n",
       "      <td>0.310663</td>\n",
       "      <td>3</td>\n",
       "    </tr>\n",
       "    <tr>\n",
       "      <th>4</th>\n",
       "      <td>0.654290</td>\n",
       "      <td>0.175418</td>\n",
       "      <td>4</td>\n",
       "    </tr>\n",
       "    <tr>\n",
       "      <th>5</th>\n",
       "      <td>0.793480</td>\n",
       "      <td>0.131331</td>\n",
       "      <td>5</td>\n",
       "    </tr>\n",
       "    <tr>\n",
       "      <th>6</th>\n",
       "      <td>0.701369</td>\n",
       "      <td>0.081930</td>\n",
       "      <td>6</td>\n",
       "    </tr>\n",
       "    <tr>\n",
       "      <th>7</th>\n",
       "      <td>0.763960</td>\n",
       "      <td>0.057966</td>\n",
       "      <td>7</td>\n",
       "    </tr>\n",
       "    <tr>\n",
       "      <th>8</th>\n",
       "      <td>0.722102</td>\n",
       "      <td>0.037733</td>\n",
       "      <td>8</td>\n",
       "    </tr>\n",
       "    <tr>\n",
       "      <th>9</th>\n",
       "      <td>0.750418</td>\n",
       "      <td>0.025996</td>\n",
       "      <td>9</td>\n",
       "    </tr>\n",
       "    <tr>\n",
       "      <th>10</th>\n",
       "      <td>0.731404</td>\n",
       "      <td>0.017244</td>\n",
       "      <td>10</td>\n",
       "    </tr>\n",
       "  </tbody>\n",
       "</table>\n",
       "</div>"
      ],
      "text/plain": [
       "          xn  error_rel  indice\n",
       "1   1.000000   0.850816       1\n",
       "2   0.540302   0.369949       2\n",
       "3   0.857553   0.310663       3\n",
       "4   0.654290   0.175418       4\n",
       "5   0.793480   0.131331       5\n",
       "6   0.701369   0.081930       6\n",
       "7   0.763960   0.057966       7\n",
       "8   0.722102   0.037733       8\n",
       "9   0.750418   0.025996       9\n",
       "10  0.731404   0.017244      10"
      ]
     },
     "execution_count": 61,
     "metadata": {},
     "output_type": "execute_result"
    }
   ],
   "source": [
    "testpf_rel"
   ]
  }
 ],
 "metadata": {
  "kernelspec": {
   "display_name": "Python 3 (ipykernel)",
   "language": "python",
   "name": "python3"
  },
  "language_info": {
   "codemirror_mode": {
    "name": "ipython",
    "version": 3
   },
   "file_extension": ".py",
   "mimetype": "text/x-python",
   "name": "python",
   "nbconvert_exporter": "python",
   "pygments_lexer": "ipython3",
   "version": "3.13.2"
  }
 },
 "nbformat": 4,
 "nbformat_minor": 5
}
