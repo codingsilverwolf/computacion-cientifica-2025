{
 "cells": [
  {
   "cell_type": "markdown",
   "id": "d8912550-0c53-4815-b2b9-0f0d75aa3ed5",
   "metadata": {},
   "source": [
    "# Métodos"
   ]
  },
  {
   "cell_type": "markdown",
   "id": "fd63bd9b-315a-49a4-9707-671a1e90c1cf",
   "metadata": {},
   "source": [
    "## Bisección"
   ]
  },
  {
   "cell_type": "code",
   "execution_count": 1,
   "id": "450a395c-73b7-4f96-b98d-c5d5487e41b3",
   "metadata": {},
   "outputs": [
    {
     "data": {
      "text/plain": [
       "(1, 4, 2.5)"
      ]
     },
     "execution_count": 1,
     "metadata": {},
     "output_type": "execute_result"
    }
   ],
   "source": [
    "from math import *\n",
    "\n",
    "def h(x):\n",
    "    return (x-3)**3\n",
    "    \n",
    "def biseccion(f, intervalo, n):\n",
    "    \"\"\"\n",
    "    PROPÓSITO: calcula el término *n* de la sucesión de                          bisección aplicada a *f* en *intervalo* y los extremos del mismo.\n",
    "    PRECONDICIONES: f debe tener una única raíz en *intervalo*, ser continua     y f(a)f(b)< 0.\n",
    "    PARÁMETROS:\n",
    "        - f. función. La función involucrada.\n",
    "        - intervalo. Lista =  [a, b]. \n",
    "        - n. Entero positivo. El índice del término de la                sucesión de bisección.\n",
    "    \"\"\"\n",
    "    a, b = intervalo\n",
    "    # inicializamos sucesión y contador\n",
    "    xn =  a + (b-a)/2\n",
    "    k =  1\n",
    "    while k < n:\n",
    "        if f(a)*f(xn)<0:\n",
    "            b = xn\n",
    "        else:\n",
    "            a = xn\n",
    "        # actualizamos sucesión y contador    \n",
    "        xn =  a + (b-a)/2  \n",
    "        k =  k + 1\n",
    "    return a, b, xn\n",
    "    \n",
    "biseccion(h, [1, 4], 1)"
   ]
  },
  {
   "cell_type": "markdown",
   "id": "1c3f3e46-fb44-4e1f-adb6-0227a3c24c62",
   "metadata": {},
   "source": [
    "# TAREA: Mejorar df_biseccion"
   ]
  },
  {
   "cell_type": "code",
   "execution_count": 2,
   "id": "7450923e-f065-4efa-b28b-5a8e1b143d87",
   "metadata": {},
   "outputs": [
    {
     "data": {
      "text/html": [
       "<div>\n",
       "<style scoped>\n",
       "    .dataframe tbody tr th:only-of-type {\n",
       "        vertical-align: middle;\n",
       "    }\n",
       "\n",
       "    .dataframe tbody tr th {\n",
       "        vertical-align: top;\n",
       "    }\n",
       "\n",
       "    .dataframe thead th {\n",
       "        text-align: right;\n",
       "    }\n",
       "</style>\n",
       "<table border=\"1\" class=\"dataframe\">\n",
       "  <thead>\n",
       "    <tr style=\"text-align: right;\">\n",
       "      <th></th>\n",
       "      <th>a</th>\n",
       "      <th>b</th>\n",
       "      <th>xn</th>\n",
       "    </tr>\n",
       "  </thead>\n",
       "  <tbody>\n",
       "    <tr>\n",
       "      <th>0</th>\n",
       "      <td>1.000000</td>\n",
       "      <td>4.000000</td>\n",
       "      <td>2.500000</td>\n",
       "    </tr>\n",
       "    <tr>\n",
       "      <th>1</th>\n",
       "      <td>2.500000</td>\n",
       "      <td>4.000000</td>\n",
       "      <td>3.250000</td>\n",
       "    </tr>\n",
       "    <tr>\n",
       "      <th>2</th>\n",
       "      <td>2.500000</td>\n",
       "      <td>3.250000</td>\n",
       "      <td>2.875000</td>\n",
       "    </tr>\n",
       "    <tr>\n",
       "      <th>3</th>\n",
       "      <td>2.875000</td>\n",
       "      <td>3.250000</td>\n",
       "      <td>3.062500</td>\n",
       "    </tr>\n",
       "    <tr>\n",
       "      <th>4</th>\n",
       "      <td>2.875000</td>\n",
       "      <td>3.062500</td>\n",
       "      <td>2.968750</td>\n",
       "    </tr>\n",
       "    <tr>\n",
       "      <th>5</th>\n",
       "      <td>2.968750</td>\n",
       "      <td>3.062500</td>\n",
       "      <td>3.015625</td>\n",
       "    </tr>\n",
       "    <tr>\n",
       "      <th>6</th>\n",
       "      <td>2.968750</td>\n",
       "      <td>3.015625</td>\n",
       "      <td>2.992188</td>\n",
       "    </tr>\n",
       "    <tr>\n",
       "      <th>7</th>\n",
       "      <td>2.992188</td>\n",
       "      <td>3.015625</td>\n",
       "      <td>3.003906</td>\n",
       "    </tr>\n",
       "    <tr>\n",
       "      <th>8</th>\n",
       "      <td>2.992188</td>\n",
       "      <td>3.003906</td>\n",
       "      <td>2.998047</td>\n",
       "    </tr>\n",
       "  </tbody>\n",
       "</table>\n",
       "</div>"
      ],
      "text/plain": [
       "          a         b        xn\n",
       "0  1.000000  4.000000  2.500000\n",
       "1  2.500000  4.000000  3.250000\n",
       "2  2.500000  3.250000  2.875000\n",
       "3  2.875000  3.250000  3.062500\n",
       "4  2.875000  3.062500  2.968750\n",
       "5  2.968750  3.062500  3.015625\n",
       "6  2.968750  3.015625  2.992188\n",
       "7  2.992188  3.015625  3.003906\n",
       "8  2.992188  3.003906  2.998047"
      ]
     },
     "execution_count": 2,
     "metadata": {},
     "output_type": "execute_result"
    }
   ],
   "source": [
    "import numpy as np\n",
    "import pandas as pd\n",
    "\n",
    "def df_biseccion(f, intervalo, cantidad_iteraciones):\n",
    "    \n",
    "    # Se puede mejorar\n",
    "    sucesion_a =  np.array([biseccion(f, intervalo, n)[0] for n      in          range(1, cantidad_iteraciones)])\n",
    "    sucesion_b = np.array([biseccion(f, intervalo, n)[1] for n       in          range(1, cantidad_iteraciones)])\n",
    "    sucesion = np.array([biseccion(f, intervalo, n)[2] for n in                  range(1, cantidad_iteraciones)])\n",
    "\n",
    "    columnas = zip(sucesion_a, sucesion_b, sucesion)\n",
    "   \n",
    "    tabla = pd.DataFrame(columnas, columns=[\"a\", \"b\", \"xn\"])\n",
    "    return tabla    \n",
    "    \n",
    "\n",
    "df_biseccion(h, [1,4], 10)\n",
    "\n",
    "\n"
   ]
  },
  {
   "cell_type": "code",
   "execution_count": 3,
   "id": "1185f339-6931-4c59-b6f5-e53703153713",
   "metadata": {},
   "outputs": [
    {
     "data": {
      "text/html": [
       "<div>\n",
       "<style scoped>\n",
       "    .dataframe tbody tr th:only-of-type {\n",
       "        vertical-align: middle;\n",
       "    }\n",
       "\n",
       "    .dataframe tbody tr th {\n",
       "        vertical-align: top;\n",
       "    }\n",
       "\n",
       "    .dataframe thead th {\n",
       "        text-align: right;\n",
       "    }\n",
       "</style>\n",
       "<table border=\"1\" class=\"dataframe\">\n",
       "  <thead>\n",
       "    <tr style=\"text-align: right;\">\n",
       "      <th></th>\n",
       "      <th>a</th>\n",
       "      <th>b</th>\n",
       "      <th>xn</th>\n",
       "    </tr>\n",
       "  </thead>\n",
       "  <tbody>\n",
       "    <tr>\n",
       "      <th>0</th>\n",
       "      <td>1.000000</td>\n",
       "      <td>4.000000</td>\n",
       "      <td>2.500000</td>\n",
       "    </tr>\n",
       "    <tr>\n",
       "      <th>1</th>\n",
       "      <td>2.500000</td>\n",
       "      <td>4.000000</td>\n",
       "      <td>3.250000</td>\n",
       "    </tr>\n",
       "    <tr>\n",
       "      <th>2</th>\n",
       "      <td>2.500000</td>\n",
       "      <td>3.250000</td>\n",
       "      <td>2.875000</td>\n",
       "    </tr>\n",
       "    <tr>\n",
       "      <th>3</th>\n",
       "      <td>2.875000</td>\n",
       "      <td>3.250000</td>\n",
       "      <td>3.062500</td>\n",
       "    </tr>\n",
       "    <tr>\n",
       "      <th>4</th>\n",
       "      <td>2.875000</td>\n",
       "      <td>3.062500</td>\n",
       "      <td>2.968750</td>\n",
       "    </tr>\n",
       "    <tr>\n",
       "      <th>5</th>\n",
       "      <td>2.968750</td>\n",
       "      <td>3.062500</td>\n",
       "      <td>3.015625</td>\n",
       "    </tr>\n",
       "    <tr>\n",
       "      <th>6</th>\n",
       "      <td>2.968750</td>\n",
       "      <td>3.015625</td>\n",
       "      <td>2.992188</td>\n",
       "    </tr>\n",
       "    <tr>\n",
       "      <th>7</th>\n",
       "      <td>2.992188</td>\n",
       "      <td>3.015625</td>\n",
       "      <td>3.003906</td>\n",
       "    </tr>\n",
       "    <tr>\n",
       "      <th>8</th>\n",
       "      <td>2.992188</td>\n",
       "      <td>3.003906</td>\n",
       "      <td>2.998047</td>\n",
       "    </tr>\n",
       "  </tbody>\n",
       "</table>\n",
       "</div>"
      ],
      "text/plain": [
       "          a         b        xn\n",
       "0  1.000000  4.000000  2.500000\n",
       "1  2.500000  4.000000  3.250000\n",
       "2  2.500000  3.250000  2.875000\n",
       "3  2.875000  3.250000  3.062500\n",
       "4  2.875000  3.062500  2.968750\n",
       "5  2.968750  3.062500  3.015625\n",
       "6  2.968750  3.015625  2.992188\n",
       "7  2.992188  3.015625  3.003906\n",
       "8  2.992188  3.003906  2.998047"
      ]
     },
     "execution_count": 3,
     "metadata": {},
     "output_type": "execute_result"
    }
   ],
   "source": [
    "test = df_biseccion(h, [1,4], 10)\n",
    "\n",
    "test"
   ]
  },
  {
   "cell_type": "code",
   "execution_count": 4,
   "id": "5e641cd3-b164-41ee-a843-c597826b31d5",
   "metadata": {},
   "outputs": [
    {
     "name": "stdout",
     "output_type": "stream",
     "text": [
      "(1, 'A')\n",
      "(2, 'B')\n"
     ]
    }
   ],
   "source": [
    "lista1 = [1, 2]\n",
    "lista2 = ['A', 'B']\n",
    "\n",
    "zipeado = zip(lista1, lista2)\n",
    "\n",
    "for elemento in zipeado:\n",
    "    print(elemento)"
   ]
  },
  {
   "cell_type": "code",
   "execution_count": 5,
   "id": "c6fe6fcd-3a91-4a9a-a96d-26b3d77882ba",
   "metadata": {},
   "outputs": [
    {
     "data": {
      "text/html": [
       "<div>\n",
       "<style scoped>\n",
       "    .dataframe tbody tr th:only-of-type {\n",
       "        vertical-align: middle;\n",
       "    }\n",
       "\n",
       "    .dataframe tbody tr th {\n",
       "        vertical-align: top;\n",
       "    }\n",
       "\n",
       "    .dataframe thead th {\n",
       "        text-align: right;\n",
       "    }\n",
       "</style>\n",
       "<table border=\"1\" class=\"dataframe\">\n",
       "  <thead>\n",
       "    <tr style=\"text-align: right;\">\n",
       "      <th></th>\n",
       "      <th>a</th>\n",
       "      <th>b</th>\n",
       "      <th>xn</th>\n",
       "    </tr>\n",
       "  </thead>\n",
       "  <tbody>\n",
       "    <tr>\n",
       "      <th>0</th>\n",
       "      <td>1.000000</td>\n",
       "      <td>4.000000</td>\n",
       "      <td>2.500000</td>\n",
       "    </tr>\n",
       "    <tr>\n",
       "      <th>1</th>\n",
       "      <td>2.500000</td>\n",
       "      <td>4.000000</td>\n",
       "      <td>3.250000</td>\n",
       "    </tr>\n",
       "    <tr>\n",
       "      <th>2</th>\n",
       "      <td>2.500000</td>\n",
       "      <td>3.250000</td>\n",
       "      <td>2.875000</td>\n",
       "    </tr>\n",
       "    <tr>\n",
       "      <th>3</th>\n",
       "      <td>2.875000</td>\n",
       "      <td>3.250000</td>\n",
       "      <td>3.062500</td>\n",
       "    </tr>\n",
       "    <tr>\n",
       "      <th>4</th>\n",
       "      <td>2.875000</td>\n",
       "      <td>3.062500</td>\n",
       "      <td>2.968750</td>\n",
       "    </tr>\n",
       "    <tr>\n",
       "      <th>5</th>\n",
       "      <td>2.968750</td>\n",
       "      <td>3.062500</td>\n",
       "      <td>3.015625</td>\n",
       "    </tr>\n",
       "    <tr>\n",
       "      <th>6</th>\n",
       "      <td>2.968750</td>\n",
       "      <td>3.015625</td>\n",
       "      <td>2.992188</td>\n",
       "    </tr>\n",
       "    <tr>\n",
       "      <th>7</th>\n",
       "      <td>2.992188</td>\n",
       "      <td>3.015625</td>\n",
       "      <td>3.003906</td>\n",
       "    </tr>\n",
       "    <tr>\n",
       "      <th>8</th>\n",
       "      <td>2.992188</td>\n",
       "      <td>3.003906</td>\n",
       "      <td>2.998047</td>\n",
       "    </tr>\n",
       "  </tbody>\n",
       "</table>\n",
       "</div>"
      ],
      "text/plain": [
       "          a         b        xn\n",
       "0  1.000000  4.000000  2.500000\n",
       "1  2.500000  4.000000  3.250000\n",
       "2  2.500000  3.250000  2.875000\n",
       "3  2.875000  3.250000  3.062500\n",
       "4  2.875000  3.062500  2.968750\n",
       "5  2.968750  3.062500  3.015625\n",
       "6  2.968750  3.015625  2.992188\n",
       "7  2.992188  3.015625  3.003906\n",
       "8  2.992188  3.003906  2.998047"
      ]
     },
     "execution_count": 5,
     "metadata": {},
     "output_type": "execute_result"
    }
   ],
   "source": [
    "filtro = test.a > 0.9\n",
    "\n",
    "test[filtro]\n"
   ]
  },
  {
   "cell_type": "code",
   "execution_count": 6,
   "id": "b77b41bb-7ec6-4fec-ae1f-37eab002fbb3",
   "metadata": {},
   "outputs": [
    {
     "data": {
      "text/plain": [
       "<Axes: >"
      ]
     },
     "execution_count": 6,
     "metadata": {},
     "output_type": "execute_result"
    },
    {
     "data": {
      "image/png": "[encoded data removed]",
      "text/plain": [
       "<Figure size 640x480 with 1 Axes>"
      ]
     },
     "metadata": {},
     "output_type": "display_data"
    }
   ],
   "source": [
    "test.xn.plot()"
   ]
  },
  {
   "cell_type": "markdown",
   "id": "ca88c684-a28e-4b85-9f54-7813f5982ea7",
   "metadata": {},
   "source": [
    "# Criterio STOP"
   ]
  },
  {
   "cell_type": "code",
   "execution_count": 8,
   "id": "542f6633-5547-4584-b6c9-1a397a20bc94",
   "metadata": {},
   "outputs": [
    {
     "name": "stdout",
     "output_type": "stream",
     "text": [
      "0.6\n",
      "3.25 2.5\n",
      "0.23076923076923078\n",
      "3.625 3.25\n",
      "0.10344827586206896\n",
      "3.8125 3.625\n"
     ]
    },
    {
     "data": {
      "text/plain": [
       "(3.625, 4, 3.8125)"
      ]
     },
     "execution_count": 8,
     "metadata": {},
     "output_type": "execute_result"
    }
   ],
   "source": [
    "def h(x):\n",
    "    return x**3\n",
    "    \n",
    "def biseccion_stop(f, intervalo, stop):\n",
    "    \"\"\"\n",
    "    PROPÓSITO: calcula la sucesión de bisección aplicada a *f* en *intervalo* y los extremos del mismo hasta que se cumpla el criterio de stop inducido por *stop*.\n",
    "    PRECONDICIONES: f debe tener una única raíz en *intervalo*, ser continua     y f(a)f(b)< 0.\n",
    "    PARÁMETROS:\n",
    "        - f. función. La función involucrada.\n",
    "        - intervalo. Lista =  [a, b]. \n",
    "        - n. Entero positivo. El índice del término de la                sucesión de bisección.\n",
    "    \"\"\"\n",
    "    a, b = intervalo\n",
    "    # inicializamos sucesión y contador\n",
    "    xn1 =  a + (b-a)/2\n",
    "    xn = 1\n",
    "    k =  1\n",
    "    \n",
    "    while abs((xn1 - xn)/xn1) > stop:\n",
    "        print(abs((xn1 - xn)/xn1))\n",
    "        if f(a)*f(xn1)<0:\n",
    "            b = xn1\n",
    "        else:\n",
    "            a = xn1\n",
    "        # actualizamos sucesión y contador    \n",
    "        xn = xn1\n",
    "        xn1 =  a + (b-a)/2  \n",
    "        k =  k + 1\n",
    "        print(xn1, xn)\n",
    "    return a, b, xn1\n",
    "\n",
    "\n",
    "biseccion_stop(h,  [1, 4], 0.1)"
   ]
  },
  {
   "cell_type": "markdown",
   "id": "c9a7fd88-d830-402a-b044-999674b8e2e9",
   "metadata": {},
   "source": [
    "# TAREA: ¿Es cierto que si $f$ tiene un único cero en $x=0 \\in [a, b]$ y $f(a)f(b) < 0$, entonces el criterio de aproximación de error  relativo\n",
    "\n",
    "# $\\left|\\frac{x_{n+1} - x_{n}}{x_{n+1}}\\right|$\n",
    "\n",
    "# falla?"
   ]
  },
  {
   "cell_type": "code",
   "execution_count": null,
   "id": "64fc8c75-19e4-408f-a5c5-f3f12f0a58a3",
   "metadata": {},
   "outputs": [],
   "source": []
  }
 ],
 "metadata": {
  "kernelspec": {
   "display_name": "Python 3 (ipykernel)",
   "language": "python",
   "name": "python3"
  },
  "language_info": {
   "codemirror_mode": {
    "name": "ipython",
    "version": 3
   },
   "file_extension": ".py",
   "mimetype": "text/x-python",
   "name": "python",
   "nbconvert_exporter": "python",
   "pygments_lexer": "ipython3",
   "version": "3.13.2"
  }
 },
 "nbformat": 4,
 "nbformat_minor": 5
}
