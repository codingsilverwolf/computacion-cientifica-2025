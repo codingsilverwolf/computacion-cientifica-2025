{
 "cells": [
  {
   "cell_type": "markdown",
   "metadata": {},
   "source": [
    "# Listas - for - while +  cosas\n",
    "\n"
   ]
  },
  {
   "cell_type": "markdown",
   "metadata": {
    "id": "_2_7f27GOf8u"
   },
   "source": [
    "# A) Strings (cadenas) y no strings"
   ]
  },
  {
   "attachments": {},
   "cell_type": "markdown",
   "metadata": {
    "id": "H5UVdBMJPwAG"
   },
   "source": [
    "### 1) Imprima su primer línea de código 'Hola Mundo' y compruebe su tipo con la **función integrada** type. Para ver una lista con las funciones integradas de Python vaya a https://docs.python.org/es/3/library/functions.html#type. \n",
    "\n",
    "### También compruebe su longitud con el comando len()"
   ]
  },
  {
   "cell_type": "code",
   "execution_count": null,
   "metadata": {},
   "outputs": [],
   "source": []
  },
  {
   "attachments": {},
   "cell_type": "markdown",
   "metadata": {
    "id": "upEDHk7SVo5a"
   },
   "source": [
    "### 2) Guarde un string en la variable a, un número entero en la variable b, y un flotante en la variable c. Compruebe su tipo. ¿Qué sucede si ordena hacer a+b? ¿Y b+c? Recuerde que para ver el output de estas acciones es posible que deba hacer un print de acuerdo al intéprete que esté usando.  Ahora, reutilizando las variables que usó anteriormente, cree nuevas variables (sugerencia: utilice a2, b2, c2 de forma apropiada) para poder hacer sumas válidas. Explore el tipo de estas sumas."
   ]
  },
  {
   "cell_type": "code",
   "execution_count": 6,
   "metadata": {
    "id": "dZzDzltaV_ex"
   },
   "outputs": [
    {
     "name": "stdout",
     "output_type": "stream",
     "text": [
      "<class 'str'> <class 'int'> <class 'float'>\n"
     ]
    },
    {
     "data": {
      "text/plain": [
       "2.0"
      ]
     },
     "execution_count": 6,
     "metadata": {},
     "output_type": "execute_result"
    }
   ],
   "source": [
    "a= 'chanchito feliz'\n",
    "b= 1\n",
    "c= 1.0\n",
    "print(type(a), type(b),type(c))\n",
    "# a+b <--- obtenemos error\n",
    "\n",
    "a2= 'otros chanchitos felices'\n",
    "b2= 2\n",
    "c2= 2.0\n",
    "#print(a+a2)\n",
    "a+a2\n",
    "# print(b+c) da error\n",
    "\n",
    "#print(c+c2)\n",
    "b+c\n",
    "\n"
   ]
  },
  {
   "attachments": {},
   "cell_type": "markdown",
   "metadata": {
    "id": "JDA-nU_IWC-9"
   },
   "source": [
    "### 3) Para llamar funciones que no están integradas, Python tiene módulos. Por ejemplo el módulo [math](https://docs.python.org/es/3/library/math.html?highlight=pi#), nos brinda un extensivo catálogo de funciones matemáticas. Puede indagar más sobre módulos en https://www.learnpython.org/es/Modules%20and%20Packages.\n",
    "\n",
    "#### **Tip: cuando se importa un módulo se le puede poner 'un apodo': Si el nombre del módulo es seguido por _as_, la palabra que sigue se toma como apodo y queda ligado directamente al módulo importado.**\n",
    "\n",
    "Observe el ejemplo debajo\n",
    "\n"
   ]
  },
  {
   "cell_type": "code",
   "execution_count": 3,
   "metadata": {},
   "outputs": [
    {
     "name": "stdout",
     "output_type": "stream",
     "text": [
      "3.141592653589793 1.2246467991473532e-16\n"
     ]
    }
   ],
   "source": [
    "import math as m\n",
    "\n",
    "a=m.pi\n",
    "\n",
    "print(a, m.sin(a))"
   ]
  },
  {
   "cell_type": "code",
   "execution_count": 4,
   "metadata": {},
   "outputs": [
    {
     "name": "stdout",
     "output_type": "stream",
     "text": [
      "3.141592653589793 1.2246467991473532e-16\n"
     ]
    }
   ],
   "source": [
    "# También se puede importar lo mínimo que uno necesite\n",
    "\n",
    "from math import pi, sin\n",
    "\n",
    "print(pi, m.sin(pi))"
   ]
  },
  {
   "cell_type": "code",
   "execution_count": 2,
   "metadata": {},
   "outputs": [
    {
     "name": "stdout",
     "output_type": "stream",
     "text": [
      "1.2246467991473532e-16\n"
     ]
    }
   ],
   "source": [
    "# No se estila importar todo el contenido de un módulo por cuestiones de claridad: para saber donde vive cada cosa. Igualmente proveemos el ejemplo \n",
    "\n",
    "from math import *\n",
    "\n",
    "print(sin(pi))"
   ]
  },
  {
   "cell_type": "markdown",
   "metadata": {},
   "source": [
    "### a) Guiándose por la información provista en los enlaces, guarde en la variable \"a\" a $\\pi$ y en \"b\" un número entero. Pida el tipo de \"a\", \"b\", y de \"a+b\".\n",
    "\n"
   ]
  },
  {
   "cell_type": "markdown",
   "metadata": {
    "id": "tQ3HEQSmYatD"
   },
   "source": [
    "### 4) Podemos definir nuestras propias funiones con la siguiente sintaxis (ver más adelante el artículo indicado)"
   ]
  },
  {
   "cell_type": "code",
   "execution_count": 10,
   "metadata": {
    "colab": {
     "base_uri": "https://localhost:8080/"
    },
    "id": "dhUXyxcoYnUK",
    "outputId": "80f420ad-ed1c-4c6a-c609-7e4ba068fa45"
   },
   "outputs": [
    {
     "data": {
      "text/plain": [
       "4"
      ]
     },
     "execution_count": 10,
     "metadata": {},
     "output_type": "execute_result"
    }
   ],
   "source": [
    "#Ejemplo de una función que toma dos variables y las suma (obviamente no es necesario definirla porque podemos sumar directamente). Las funciones que \"vienen por defecto integradas\" se llaman funciones primitivas.\n",
    "def suma(a,b):\n",
    "  return a+b # siempre colocamos 'retur' para indicar el output de una función\n",
    "\n",
    "#llamamos la función\n",
    "\n",
    "suma(2,2)"
   ]
  },
  {
   "cell_type": "markdown",
   "metadata": {},
   "source": [
    "### a) Defina la función $2x^2 + x +1$\n",
    "### b) Busque la forma de definir $ax^2 + bx + c$ donde Ud. pueda darle valores a $a$, $b$ y $c$"
   ]
  },
  {
   "cell_type": "markdown",
   "metadata": {},
   "source": [
    "# 5) \n",
    "### Los Strings son iterables. Podemos pensar que un objeto tiene la propiedad de iterable si _lo podemos recorrer_. Veamos el siguiente ejemplo:\n",
    "\n"
   ]
  },
  {
   "cell_type": "code",
   "execution_count": 5,
   "metadata": {},
   "outputs": [
    {
     "name": "stdout",
     "output_type": "stream",
     "text": [
      "H\n",
      "o\n",
      "l\n",
      "a\n",
      "H o l a "
     ]
    }
   ],
   "source": [
    "a= 'Hola' #string\n",
    "\n",
    "# recorremos los elementos de a y los imprimimos\n",
    "for i in a:\n",
    "  print(i)\n",
    "\n",
    "for i in a:\n",
    "    print(i, end= ' ' )"
   ]
  },
  {
   "cell_type": "markdown",
   "metadata": {},
   "source": [
    "### a) Cree una función que cuente la cantidad de letras de una palabra\n",
    "\n",
    "Ejemplos (entrada ---> salida)\n",
    "\n",
    "\"Hola\" ---> \"4\"\n",
    "\n",
    "\"Computación\" ---> \"11\""
   ]
  },
  {
   "cell_type": "code",
   "execution_count": null,
   "metadata": {},
   "outputs": [],
   "source": []
  },
  {
   "cell_type": "markdown",
   "metadata": {},
   "source": [
    "# 6) Explore las operaciones / y % "
   ]
  },
  {
   "cell_type": "code",
   "execution_count": null,
   "metadata": {},
   "outputs": [],
   "source": []
  },
  {
   "cell_type": "markdown",
   "metadata": {},
   "source": [
    "# 7) (Requiere ítem anterior)\n",
    "### Cree una función que tome un número entero como argumento y devuelva \"Par\" para números pares o \"Impar\" para números impares."
   ]
  },
  {
   "cell_type": "code",
   "execution_count": null,
   "metadata": {},
   "outputs": [],
   "source": []
  },
  {
   "cell_type": "markdown",
   "metadata": {},
   "source": [
    "# 8) \n",
    "\n",
    "### Los strings terminan siendo bastante relevantes por la gran versatilidad que admiten a la hora de se manipulados. A veces queremos convertir números en strings. Esto será útil en este ejercicio. Se logra mediante la función str(). Ud. podría también googlear \"como convertir un número en string en Python\" y llegar a la misma respuesta.\n",
    "\n",
    "### Normalmente, cuando compramos algo, nos preguntamos si nuestro número de tarjeta de crédito, número de teléfono o la respuesta a nuestra pregunta más secreta siguen siendo correctos. Sin embargo, dado que alguien podría mirar por encima de nuestro hombro, no querremos que eso se muestre en la pantalla. En cambio, lo enmascaramos.\n",
    "\n",
    "a) Su tarea es escribir una función enmascarar, que cambia todos los caracteres excepto los últimos cuatro a '#'.\n",
    "\n",
    "Ejemplos (entrada --> salida):\n",
    "\n",
    " `` \"4556364607935616\" --> \"#############5616\"``\n",
    " \n",
    " ``   \"64607935616\" --> \"#######5616\"  ``\n",
    "     \n",
    " `` \"1\" --> \"1\" ``\n",
    "                \n",
    " `` \"\" --> \"\"  ``\n",
    " \n",
    "\n",
    "// \"¿Cuál era el nombre de tu primera mascota?\"\n",
    "\n",
    "`` \"Skippy\" --> \"##ippy\" ``"
   ]
  },
  {
   "cell_type": "code",
   "execution_count": null,
   "metadata": {},
   "outputs": [],
   "source": []
  },
  {
   "cell_type": "markdown",
   "metadata": {},
   "source": [
    "### b) Defina una función que dado un string, devuelve la cantidad de letras 'i' en el mismo. Debe usar _for_ o _while_\n",
    "\n",
    "### c) Repita 2 usando list comprenhension (investigue sobre list comprehension)\n",
    "\n"
   ]
  },
  {
   "cell_type": "code",
   "execution_count": null,
   "metadata": {},
   "outputs": [],
   "source": []
  },
  {
   "attachments": {},
   "cell_type": "markdown",
   "metadata": {
    "id": "yWw767Haq8VT"
   },
   "source": [
    "### 9) Es muy usual que queramos darle formato a nuestros prints, o que queramos que Python imprima strings combinados con variables. Para esto hay varios métodos siendo el de **f-strings** el más nuevo y poderoso (y el que usaremos en este curso). Lea el [artículo](https://www.freecodecamp.org/espanol/news/tutorial-de-f-strings-en-python-formato-de-cadenas-en-python-explicado-con-ejemplos/) sobre f-strings hasta antes del título \"Como usar condicionales en Python con f-strings\"\n",
    "\n",
    "### i) Produzca un código que dada una palabra x, imprima \"la cantidad de letras de la palabra x es n\", donde n es dicha cantidad.\n",
    "### i) Mejore el código para el caso en el que x es una frase. Por ejemplo 'chanchito feliz' posee 14 letras"
   ]
  },
  {
   "cell_type": "markdown",
   "metadata": {},
   "source": []
  },
  {
   "cell_type": "markdown",
   "metadata": {},
   "source": [
    "### 10) Si enumeramos todos los números naturales menores a 10 que son múltiplos de 3 o 5, obtenemos 3, 5, 6 y 9. La suma de estos múltiplos es 23. Termine la solución para que devuelva la suma de todos los múltiplos de 3 o 5 debajo del número ingresado. Además, si el número es negativo, devuelve 0. Nota: si el número es múltiplo de 3 y 5, cuéntelo sólo una vez."
   ]
  }
 ],
 "metadata": {
  "colab": {
   "provenance": []
  },
  "kernelspec": {
   "display_name": "Python 3 (ipykernel)",
   "language": "python",
   "name": "python3"
  },
  "language_info": {
   "codemirror_mode": {
    "name": "ipython",
    "version": 3
   },
   "file_extension": ".py",
   "mimetype": "text/x-python",
   "name": "python",
   "nbconvert_exporter": "python",
   "pygments_lexer": "ipython3",
   "version": "3.13.2"
  },
  "vscode": {
   "interpreter": {
    "hash": "48103ddf36c196c5694fbed1a662071ffaf5a835b896910c6b7ad402df402c84"
   }
  }
 },
 "nbformat": 4,
 "nbformat_minor": 4
}
