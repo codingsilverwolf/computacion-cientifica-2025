{
 "cells": [
  {
   "cell_type": "markdown",
   "id": "27d47c5c-7ff4-41ba-9ce6-64865b6cd0e8",
   "metadata": {},
   "source": [
    "### Punto Fijo"
   ]
  },
  {
   "cell_type": "code",
   "execution_count": 22,
   "id": "0f4faabd-2219-4f90-88f8-ecb7befcd6e9",
   "metadata": {},
   "outputs": [
    {
     "data": {
      "text/plain": [
       "1.5707963267954879"
      ]
     },
     "execution_count": 22,
     "metadata": {},
     "output_type": "execute_result"
    }
   ],
   "source": [
    "from math import *\n",
    "\n",
    "#def f(x):\n",
    "#    return cos(x)\n",
    "\n",
    "\n",
    "def punto_fijo(g, x1, n):\n",
    "    \n",
    "    \"\"\"\n",
    "    PROPÓSITO: Devuelve el término *n* de la sucesión de PF aplicada a *g* comenzando en *x*.  \n",
    "    PRECONDICIONES: Deben cumplirse condiciones de convergencia para *g* y *x*.\n",
    "    PARÁMETROS:\n",
    "        - g. Función. La función a la cuál voy a aplicarle el método de PF\n",
    "        - x1. Flotante. La aproximación inicial para iniciar la sucesión de PF.\n",
    "        - n. Entero mayor o igual a 1. La cantidad de iteraciones a realizar.    \n",
    "    \"\"\"\n",
    "    i  = 1\n",
    "    while i < n:\n",
    "        x1 = g(x1)\n",
    "        i  = i + 1\n",
    "    return x1\n",
    "\n",
    "# punto_fijo(cos, pi/2, 30)\n",
    "\n",
    "def df(x):\n",
    "    return -sin(x)\n",
    "\n",
    "def newton(f, df, x0, n):\n",
    "\n",
    "    \"\"\"\n",
    "    PROPÓSITO:   \n",
    "    PRECONDICIONES: \n",
    "    PARÁMETROS:\n",
    "        - f. Función. La función a la cuál voy a aplicarle el método de \n",
    "        - df. \n",
    "        - x0.\n",
    "        -n\n",
    "    \"\"\"\n",
    "\n",
    "    i = 1\n",
    "    while i < n:\n",
    "        x0 = x0 - f(x0)/df(x0)\n",
    "        i = i + 1\n",
    "\n",
    "    return x0\n",
    "        \n",
    "newton(cos, df, 1, 4)        \n",
    "    \n",
    "\n",
    "\n"
   ]
  },
  {
   "cell_type": "code",
   "execution_count": 18,
   "id": "2a7dd768-0f48-4efe-a342-708346c6ac99",
   "metadata": {},
   "outputs": [
    {
     "name": "stdout",
     "output_type": "stream",
     "text": [
      "1.5707963267948966\n"
     ]
    }
   ],
   "source": [
    "print(pi/2)"
   ]
  },
  {
   "cell_type": "code",
   "execution_count": null,
   "id": "7dfb1293-3140-4fa3-9905-296979820842",
   "metadata": {},
   "outputs": [],
   "source": []
  }
 ],
 "metadata": {
  "kernelspec": {
   "display_name": "Python 3 (ipykernel)",
   "language": "python",
   "name": "python3"
  },
  "language_info": {
   "codemirror_mode": {
    "name": "ipython",
    "version": 3
   },
   "file_extension": ".py",
   "mimetype": "text/x-python",
   "name": "python",
   "nbconvert_exporter": "python",
   "pygments_lexer": "ipython3",
   "version": "3.13.2"
  }
 },
 "nbformat": 4,
 "nbformat_minor": 5
}
